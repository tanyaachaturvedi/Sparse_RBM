{
  "nbformat": 4,
  "nbformat_minor": 0,
  "metadata": {
    "colab": {
      "provenance": [],
      "gpuType": "T4",
      "authorship_tag": "ABX9TyOg3yNOvymPWZb2p4Tqatxt",
      "include_colab_link": true
    },
    "kernelspec": {
      "name": "python3",
      "display_name": "Python 3"
    },
    "language_info": {
      "name": "python"
    },
    "accelerator": "GPU"
  },
  "cells": [
    {
      "cell_type": "markdown",
      "metadata": {
        "id": "view-in-github",
        "colab_type": "text"
      },
      "source": [
        "<a href=\"https://colab.research.google.com/github/tanyaachaturvedi/Sparse_RBM/blob/main/Sparse_RBM.ipynb\" target=\"_parent\"><img src=\"https://colab.research.google.com/assets/colab-badge.svg\" alt=\"Open In Colab\"/></a>"
      ]
    },
    {
      "cell_type": "code",
      "execution_count": 1,
      "metadata": {
        "id": "YwNsmBpR4rpF"
      },
      "outputs": [],
      "source": [
        "import numpy as np\n",
        "import seaborn as sns\n",
        "import matplotlib.pyplot as plt\n",
        "import pandas as pd\n",
        "\n",
        "%matplotlib inline"
      ]
    },
    {
      "cell_type": "code",
      "source": [
        "from google.colab import files\n",
        "files.upload()"
      ],
      "metadata": {
        "colab": {
          "base_uri": "https://localhost:8080/",
          "height": 90
        },
        "id": "vJxddfs4KC3I",
        "outputId": "ca33679a-7620-4c85-df85-435c92511428"
      },
      "execution_count": 33,
      "outputs": [
        {
          "output_type": "display_data",
          "data": {
            "text/plain": [
              "<IPython.core.display.HTML object>"
            ],
            "text/html": [
              "\n",
              "     <input type=\"file\" id=\"files-16ce8a67-afd5-4faa-9bf7-afe0f4657882\" name=\"files[]\" multiple disabled\n",
              "        style=\"border:none\" />\n",
              "     <output id=\"result-16ce8a67-afd5-4faa-9bf7-afe0f4657882\">\n",
              "      Upload widget is only available when the cell has been executed in the\n",
              "      current browser session. Please rerun this cell to enable.\n",
              "      </output>\n",
              "      <script>// Copyright 2017 Google LLC\n",
              "//\n",
              "// Licensed under the Apache License, Version 2.0 (the \"License\");\n",
              "// you may not use this file except in compliance with the License.\n",
              "// You may obtain a copy of the License at\n",
              "//\n",
              "//      http://www.apache.org/licenses/LICENSE-2.0\n",
              "//\n",
              "// Unless required by applicable law or agreed to in writing, software\n",
              "// distributed under the License is distributed on an \"AS IS\" BASIS,\n",
              "// WITHOUT WARRANTIES OR CONDITIONS OF ANY KIND, either express or implied.\n",
              "// See the License for the specific language governing permissions and\n",
              "// limitations under the License.\n",
              "\n",
              "/**\n",
              " * @fileoverview Helpers for google.colab Python module.\n",
              " */\n",
              "(function(scope) {\n",
              "function span(text, styleAttributes = {}) {\n",
              "  const element = document.createElement('span');\n",
              "  element.textContent = text;\n",
              "  for (const key of Object.keys(styleAttributes)) {\n",
              "    element.style[key] = styleAttributes[key];\n",
              "  }\n",
              "  return element;\n",
              "}\n",
              "\n",
              "// Max number of bytes which will be uploaded at a time.\n",
              "const MAX_PAYLOAD_SIZE = 100 * 1024;\n",
              "\n",
              "function _uploadFiles(inputId, outputId) {\n",
              "  const steps = uploadFilesStep(inputId, outputId);\n",
              "  const outputElement = document.getElementById(outputId);\n",
              "  // Cache steps on the outputElement to make it available for the next call\n",
              "  // to uploadFilesContinue from Python.\n",
              "  outputElement.steps = steps;\n",
              "\n",
              "  return _uploadFilesContinue(outputId);\n",
              "}\n",
              "\n",
              "// This is roughly an async generator (not supported in the browser yet),\n",
              "// where there are multiple asynchronous steps and the Python side is going\n",
              "// to poll for completion of each step.\n",
              "// This uses a Promise to block the python side on completion of each step,\n",
              "// then passes the result of the previous step as the input to the next step.\n",
              "function _uploadFilesContinue(outputId) {\n",
              "  const outputElement = document.getElementById(outputId);\n",
              "  const steps = outputElement.steps;\n",
              "\n",
              "  const next = steps.next(outputElement.lastPromiseValue);\n",
              "  return Promise.resolve(next.value.promise).then((value) => {\n",
              "    // Cache the last promise value to make it available to the next\n",
              "    // step of the generator.\n",
              "    outputElement.lastPromiseValue = value;\n",
              "    return next.value.response;\n",
              "  });\n",
              "}\n",
              "\n",
              "/**\n",
              " * Generator function which is called between each async step of the upload\n",
              " * process.\n",
              " * @param {string} inputId Element ID of the input file picker element.\n",
              " * @param {string} outputId Element ID of the output display.\n",
              " * @return {!Iterable<!Object>} Iterable of next steps.\n",
              " */\n",
              "function* uploadFilesStep(inputId, outputId) {\n",
              "  const inputElement = document.getElementById(inputId);\n",
              "  inputElement.disabled = false;\n",
              "\n",
              "  const outputElement = document.getElementById(outputId);\n",
              "  outputElement.innerHTML = '';\n",
              "\n",
              "  const pickedPromise = new Promise((resolve) => {\n",
              "    inputElement.addEventListener('change', (e) => {\n",
              "      resolve(e.target.files);\n",
              "    });\n",
              "  });\n",
              "\n",
              "  const cancel = document.createElement('button');\n",
              "  inputElement.parentElement.appendChild(cancel);\n",
              "  cancel.textContent = 'Cancel upload';\n",
              "  const cancelPromise = new Promise((resolve) => {\n",
              "    cancel.onclick = () => {\n",
              "      resolve(null);\n",
              "    };\n",
              "  });\n",
              "\n",
              "  // Wait for the user to pick the files.\n",
              "  const files = yield {\n",
              "    promise: Promise.race([pickedPromise, cancelPromise]),\n",
              "    response: {\n",
              "      action: 'starting',\n",
              "    }\n",
              "  };\n",
              "\n",
              "  cancel.remove();\n",
              "\n",
              "  // Disable the input element since further picks are not allowed.\n",
              "  inputElement.disabled = true;\n",
              "\n",
              "  if (!files) {\n",
              "    return {\n",
              "      response: {\n",
              "        action: 'complete',\n",
              "      }\n",
              "    };\n",
              "  }\n",
              "\n",
              "  for (const file of files) {\n",
              "    const li = document.createElement('li');\n",
              "    li.append(span(file.name, {fontWeight: 'bold'}));\n",
              "    li.append(span(\n",
              "        `(${file.type || 'n/a'}) - ${file.size} bytes, ` +\n",
              "        `last modified: ${\n",
              "            file.lastModifiedDate ? file.lastModifiedDate.toLocaleDateString() :\n",
              "                                    'n/a'} - `));\n",
              "    const percent = span('0% done');\n",
              "    li.appendChild(percent);\n",
              "\n",
              "    outputElement.appendChild(li);\n",
              "\n",
              "    const fileDataPromise = new Promise((resolve) => {\n",
              "      const reader = new FileReader();\n",
              "      reader.onload = (e) => {\n",
              "        resolve(e.target.result);\n",
              "      };\n",
              "      reader.readAsArrayBuffer(file);\n",
              "    });\n",
              "    // Wait for the data to be ready.\n",
              "    let fileData = yield {\n",
              "      promise: fileDataPromise,\n",
              "      response: {\n",
              "        action: 'continue',\n",
              "      }\n",
              "    };\n",
              "\n",
              "    // Use a chunked sending to avoid message size limits. See b/62115660.\n",
              "    let position = 0;\n",
              "    do {\n",
              "      const length = Math.min(fileData.byteLength - position, MAX_PAYLOAD_SIZE);\n",
              "      const chunk = new Uint8Array(fileData, position, length);\n",
              "      position += length;\n",
              "\n",
              "      const base64 = btoa(String.fromCharCode.apply(null, chunk));\n",
              "      yield {\n",
              "        response: {\n",
              "          action: 'append',\n",
              "          file: file.name,\n",
              "          data: base64,\n",
              "        },\n",
              "      };\n",
              "\n",
              "      let percentDone = fileData.byteLength === 0 ?\n",
              "          100 :\n",
              "          Math.round((position / fileData.byteLength) * 100);\n",
              "      percent.textContent = `${percentDone}% done`;\n",
              "\n",
              "    } while (position < fileData.byteLength);\n",
              "  }\n",
              "\n",
              "  // All done.\n",
              "  yield {\n",
              "    response: {\n",
              "      action: 'complete',\n",
              "    }\n",
              "  };\n",
              "}\n",
              "\n",
              "scope.google = scope.google || {};\n",
              "scope.google.colab = scope.google.colab || {};\n",
              "scope.google.colab._files = {\n",
              "  _uploadFiles,\n",
              "  _uploadFilesContinue,\n",
              "};\n",
              "})(self);\n",
              "</script> "
            ]
          },
          "metadata": {}
        },
        {
          "output_type": "stream",
          "name": "stdout",
          "text": [
            "Saving kaggle.json to kaggle.json\n"
          ]
        },
        {
          "output_type": "execute_result",
          "data": {
            "text/plain": [
              "{'kaggle.json': b'{\"username\":\"tanyaachaturvedi\",\"key\":\"b3c75bbea56ad31f1033d54fa3fc6816\"}'}"
            ]
          },
          "metadata": {},
          "execution_count": 33
        }
      ]
    },
    {
      "cell_type": "code",
      "source": [
        "!mv \"kaggle.json\" kaggle.json  # rename it if needed\n",
        "!mkdir -p /root/.kaggle\n",
        "!mv kaggle.json /root/.kaggle/\n",
        "!chmod 600 /root/.kaggle/kaggle.json"
      ],
      "metadata": {
        "colab": {
          "base_uri": "https://localhost:8080/"
        },
        "id": "GYHTLzbnK2Am",
        "outputId": "cc4928b2-4067-46d9-bc13-b61032df1c72"
      },
      "execution_count": 34,
      "outputs": [
        {
          "output_type": "stream",
          "name": "stdout",
          "text": [
            "mv: 'kaggle.json' and 'kaggle.json' are the same file\n"
          ]
        }
      ]
    },
    {
      "cell_type": "code",
      "source": [
        "# Download dataset\n",
        "!kaggle datasets download -d crawford/gene-expression --force\n",
        "\n",
        "# Unzip\n",
        "import zipfile\n",
        "with zipfile.ZipFile(\"gene-expression.zip\", \"r\") as zip_ref:\n",
        "    zip_ref.extractall(\"gene_expression_data\")"
      ],
      "metadata": {
        "colab": {
          "base_uri": "https://localhost:8080/"
        },
        "id": "0Y0SYXf9IdIp",
        "outputId": "a5e2440b-d959-408c-c2dc-cde767175d26"
      },
      "execution_count": 35,
      "outputs": [
        {
          "output_type": "stream",
          "name": "stdout",
          "text": [
            "Dataset URL: https://www.kaggle.com/datasets/crawford/gene-expression\n",
            "License(s): CC0-1.0\n",
            "Downloading gene-expression.zip to /content\n",
            "  0% 0.00/1.41M [00:00<?, ?B/s]\n",
            "100% 1.41M/1.41M [00:00<00:00, 486MB/s]\n"
          ]
        }
      ]
    },
    {
      "cell_type": "code",
      "source": [
        "!ls gene_expression_data"
      ],
      "metadata": {
        "colab": {
          "base_uri": "https://localhost:8080/"
        },
        "id": "yX4TJx_gNmre",
        "outputId": "6037c050-3021-4f35-97a4-f79ce8b0fadb"
      },
      "execution_count": 36,
      "outputs": [
        {
          "output_type": "stream",
          "name": "stdout",
          "text": [
            "actual.csv  data_set_ALL_AML_independent.csv  data_set_ALL_AML_train.csv\n"
          ]
        }
      ]
    },
    {
      "cell_type": "code",
      "source": [
        "import pandas as pd\n",
        "\n",
        "# Load all CSVs\n",
        "actual_df = pd.read_csv(\"gene_expression_data/actual.csv\")\n",
        "train_df = pd.read_csv(\"gene_expression_data/data_set_ALL_AML_train.csv\")\n",
        "test_df = pd.read_csv(\"gene_expression_data/data_set_ALL_AML_independent.csv\")\n",
        "\n",
        "# Quick preview\n",
        "print(\"Actual:\")\n",
        "print(actual_df.head())\n",
        "print(\"\\nTrain shape:\", train_df.shape)\n",
        "print(\"Test shape:\", test_df.shape)\n"
      ],
      "metadata": {
        "colab": {
          "base_uri": "https://localhost:8080/"
        },
        "id": "-ZsQk660Owxh",
        "outputId": "517b42d3-9919-4a14-8439-ac6f9634fe1c"
      },
      "execution_count": 37,
      "outputs": [
        {
          "output_type": "stream",
          "name": "stdout",
          "text": [
            "Actual:\n",
            "   patient cancer\n",
            "0        1    ALL\n",
            "1        2    ALL\n",
            "2        3    ALL\n",
            "3        4    ALL\n",
            "4        5    ALL\n",
            "\n",
            "Train shape: (7129, 78)\n",
            "Test shape: (7129, 70)\n"
          ]
        }
      ]
    },
    {
      "cell_type": "code",
      "source": [
        "# Combine train and test\n",
        "full_df = pd.concat([train_df, test_df], ignore_index=True)\n",
        "\n",
        "# Merge labels into full_df\n",
        "full_df[\"cancer\"] = actual_df[\"cancer\"]\n",
        "\n",
        "# Drop non-feature columns if any\n",
        "X = full_df.drop(columns=[\"cancer\"])\n",
        "y = full_df[\"cancer\"]\n"
      ],
      "metadata": {
        "id": "HddOGPQlO6Lg"
      },
      "execution_count": 38,
      "outputs": []
    },
    {
      "cell_type": "code",
      "source": [
        "# Set gene names as index and transpose to get samples as rows\n",
        "full_df.set_index(full_df.columns[0], inplace=True)\n",
        "X = full_df.drop(columns=[\"cancer\"]).T  # transpose and drop label column\n",
        "X = X.apply(pd.to_numeric, errors='coerce')  # ensure numeric\n",
        "\n",
        "# Re-attach the labels\n",
        "y = actual_df[\"cancer\"].values\n",
        "\n",
        "# Now normalize\n",
        "from sklearn.preprocessing import StandardScaler\n",
        "\n",
        "scaler = StandardScaler()\n",
        "X_scaled = scaler.fit_transform(X)"
      ],
      "metadata": {
        "id": "w7EvAI9OPDMs"
      },
      "execution_count": 39,
      "outputs": []
    },
    {
      "cell_type": "markdown",
      "source": [
        "# Standardizing the dataset"
      ],
      "metadata": {
        "id": "_wEfQWsZvL6Y"
      }
    },
    {
      "cell_type": "code",
      "source": [
        "from sklearn.preprocessing import StandardScaler"
      ],
      "metadata": {
        "id": "Qo5Hs4_dPF9-"
      },
      "execution_count": 40,
      "outputs": []
    },
    {
      "cell_type": "code",
      "source": [
        "scaler = StandardScaler()"
      ],
      "metadata": {
        "id": "huQ1NJi3u6pO"
      },
      "execution_count": 41,
      "outputs": []
    },
    {
      "cell_type": "code",
      "source": [
        "import pandas as pd\n",
        "\n",
        "# Load files\n",
        "actual_df = pd.read_csv(\"gene_expression_data/actual.csv\")\n",
        "train_df = pd.read_csv(\"gene_expression_data/data_set_ALL_AML_train.csv\")\n",
        "test_df = pd.read_csv(\"gene_expression_data/data_set_ALL_AML_independent.csv\")\n",
        "\n",
        "# Combine expression data\n",
        "expression_df = pd.concat([train_df, test_df], axis=1)\n"
      ],
      "metadata": {
        "id": "nbUpgrSuvKUJ"
      },
      "execution_count": 42,
      "outputs": []
    },
    {
      "cell_type": "code",
      "source": [
        "# First row in expression_df is gene names — set it as index\n",
        "expression_df = expression_df.set_index(expression_df.columns[0])\n",
        "\n",
        "# Transpose so that each row = 1 patient, each column = 1 gene\n",
        "X = expression_df.T\n",
        "\n",
        "# Ensure all values are numeric\n",
        "X = X.apply(pd.to_numeric, errors='coerce')"
      ],
      "metadata": {
        "id": "R9ehRLnVvZhA"
      },
      "execution_count": 43,
      "outputs": []
    },
    {
      "cell_type": "code",
      "source": [
        "from sklearn.preprocessing import LabelEncoder\n",
        "\n",
        "# Get cancer types for each patient\n",
        "y = actual_df['cancer']\n",
        "le = LabelEncoder()\n",
        "y_encoded = le.fit_transform(y)"
      ],
      "metadata": {
        "id": "7rvNFoWlvrCN"
      },
      "execution_count": 44,
      "outputs": []
    },
    {
      "cell_type": "markdown",
      "source": [
        "# Normalizing"
      ],
      "metadata": {
        "id": "5_P1jFXWvwlR"
      }
    },
    {
      "cell_type": "code",
      "source": [
        "from sklearn.preprocessing import StandardScaler\n",
        "\n",
        "scaler = StandardScaler()\n",
        "X_scaled = scaler.fit_transform(X)"
      ],
      "metadata": {
        "id": "Dp3lq4C6vuDV"
      },
      "execution_count": 45,
      "outputs": []
    },
    {
      "cell_type": "code",
      "source": [
        "print(\"Features shape:\", X_scaled.shape)\n",
        "print(\"Labels shape:\", y_encoded.shape)\n"
      ],
      "metadata": {
        "colab": {
          "base_uri": "https://localhost:8080/"
        },
        "id": "kew042gZv1aQ",
        "outputId": "125ad85c-3352-48a3-96c0-a7a9d02a396c"
      },
      "execution_count": 46,
      "outputs": [
        {
          "output_type": "stream",
          "name": "stdout",
          "text": [
            "Features shape: (146, 7129)\n",
            "Labels shape: (72,)\n"
          ]
        }
      ]
    },
    {
      "cell_type": "code",
      "source": [
        "print(X.shape)\n"
      ],
      "metadata": {
        "colab": {
          "base_uri": "https://localhost:8080/"
        },
        "id": "4XYGL68Ov4MT",
        "outputId": "265e1c83-d4e3-4d33-a5ac-f545da18c767"
      },
      "execution_count": 47,
      "outputs": [
        {
          "output_type": "stream",
          "name": "stdout",
          "text": [
            "(146, 7129)\n"
          ]
        }
      ]
    },
    {
      "cell_type": "markdown",
      "source": [
        "# Applying PCA"
      ],
      "metadata": {
        "id": "RVOxzxzk3CjF"
      }
    },
    {
      "cell_type": "code",
      "source": [
        "from sklearn.impute import SimpleImputer\n",
        "\n",
        "# Fill NaNs with column (gene) means\n",
        "imputer = SimpleImputer(strategy='mean')\n",
        "X_scaled_imputed = imputer.fit_transform(X_scaled)\n"
      ],
      "metadata": {
        "id": "QSnztwaD1rcM"
      },
      "execution_count": 48,
      "outputs": []
    },
    {
      "cell_type": "code",
      "source": [
        "from sklearn.decomposition import PCA\n",
        "\n",
        "pca = PCA(n_components=50)\n",
        "X_pca = pca.fit_transform(X_scaled_imputed)\n"
      ],
      "metadata": {
        "id": "GFsC_M6g1yqT"
      },
      "execution_count": 49,
      "outputs": []
    },
    {
      "cell_type": "code",
      "source": [
        "from sklearn.impute import SimpleImputer\n"
      ],
      "metadata": {
        "id": "niBN31bD2NN7"
      },
      "execution_count": 50,
      "outputs": []
    },
    {
      "cell_type": "code",
      "source": [
        "imputer = SimpleImputer(strategy='mean')\n",
        "X_scaled_imputed = imputer.fit_transform(X_scaled)\n"
      ],
      "metadata": {
        "id": "hW0avc8d2dGO"
      },
      "execution_count": 51,
      "outputs": []
    },
    {
      "cell_type": "code",
      "source": [
        "from sklearn.decomposition import PCA\n",
        "\n",
        "pca = PCA(n_components=50)\n",
        "X_pca = pca.fit_transform(X_scaled_imputed)\n"
      ],
      "metadata": {
        "id": "0I5v_04t2uOC"
      },
      "execution_count": 52,
      "outputs": []
    },
    {
      "cell_type": "code",
      "source": [
        "explained = np.sum(pca.explained_variance_ratio_)\n",
        "print(f\"Total variance explained by 50 components: {explained:.2%}\")\n"
      ],
      "metadata": {
        "colab": {
          "base_uri": "https://localhost:8080/"
        },
        "id": "vMwXhVFN2v_o",
        "outputId": "4a9c7407-4499-4be2-84e2-ec6e0b55e8d3"
      },
      "execution_count": 53,
      "outputs": [
        {
          "output_type": "stream",
          "name": "stdout",
          "text": [
            "Total variance explained by 50 components: 89.58%\n"
          ]
        }
      ]
    },
    {
      "cell_type": "markdown",
      "source": [
        "# Implementing Sparse RBM"
      ],
      "metadata": {
        "id": "DGez4dt0gAbp"
      }
    },
    {
      "cell_type": "code",
      "source": [
        "import numpy as np\n",
        "from sklearn.neural_network import BernoulliRBM\n",
        "from sklearn.pipeline import Pipeline\n",
        "from sklearn.linear_model import LogisticRegression\n",
        "from sklearn.model_selection import train_test_split\n",
        "from sklearn.metrics import classification_report, accuracy_score\n",
        "from sklearn.decomposition import PCA\n",
        "from sklearn.preprocessing import StandardScaler, LabelEncoder\n",
        "\n"
      ],
      "metadata": {
        "id": "TmQbpWIP4L25"
      },
      "execution_count": 57,
      "outputs": []
    },
    {
      "cell_type": "code",
      "source": [
        "import pandas as pd\n",
        "\n",
        "df = pd.read_csv(\"gene_expression_data/data_set_ALL_AML_train.csv\", index_col=0)\n"
      ],
      "metadata": {
        "id": "2Qth_hpNo_lo"
      },
      "execution_count": 62,
      "outputs": []
    },
    {
      "cell_type": "code",
      "source": [
        "df = pd.read_csv(\"gene_expression_data/data_set_ALL_AML_train.csv\", index_col=0)\n",
        "print(df.head(10))\n",
        "print(df.columns)\n"
      ],
      "metadata": {
        "colab": {
          "base_uri": "https://localhost:8080/"
        },
        "id": "Qm75tlospmtA",
        "outputId": "12db50d7-f9cb-4712-df51-7f76cc66cc2b"
      },
      "execution_count": 65,
      "outputs": [
        {
          "output_type": "stream",
          "name": "stdout",
          "text": [
            "                                     Gene Accession Number    1 call    2  \\\n",
            "Gene Description                                                            \n",
            "AFFX-BioB-5_at (endogenous control)         AFFX-BioB-5_at -214    A -139   \n",
            "AFFX-BioB-M_at (endogenous control)         AFFX-BioB-M_at -153    A  -73   \n",
            "AFFX-BioB-3_at (endogenous control)         AFFX-BioB-3_at  -58    A   -1   \n",
            "AFFX-BioC-5_at (endogenous control)         AFFX-BioC-5_at   88    A  283   \n",
            "AFFX-BioC-3_at (endogenous control)         AFFX-BioC-3_at -295    A -264   \n",
            "AFFX-BioDn-5_at (endogenous control)       AFFX-BioDn-5_at -558    A -400   \n",
            "AFFX-BioDn-3_at (endogenous control)       AFFX-BioDn-3_at  199    A -330   \n",
            "AFFX-CreX-5_at (endogenous control)         AFFX-CreX-5_at -176    A -168   \n",
            "AFFX-CreX-3_at (endogenous control)         AFFX-CreX-3_at  252    A  101   \n",
            "AFFX-BioB-5_st (endogenous control)         AFFX-BioB-5_st  206    A   74   \n",
            "\n",
            "                                     call.1    3 call.2    4 call.3    5  ...  \\\n",
            "Gene Description                                                          ...   \n",
            "AFFX-BioB-5_at (endogenous control)       A  -76      A -135      A -106  ...   \n",
            "AFFX-BioB-M_at (endogenous control)       A  -49      A -114      A -125  ...   \n",
            "AFFX-BioB-3_at (endogenous control)       A -307      A  265      A  -76  ...   \n",
            "AFFX-BioC-5_at (endogenous control)       A  309      A   12      A  168  ...   \n",
            "AFFX-BioC-3_at (endogenous control)       A -376      A -419      A -230  ...   \n",
            "AFFX-BioDn-5_at (endogenous control)      A -650      A -585      A -284  ...   \n",
            "AFFX-BioDn-3_at (endogenous control)      A   33      A  158      A    4  ...   \n",
            "AFFX-CreX-5_at (endogenous control)       A -367      A -253      A -122  ...   \n",
            "AFFX-CreX-3_at (endogenous control)       A  206      A   49      A   70  ...   \n",
            "AFFX-BioB-5_st (endogenous control)       A -215      A   31      A  252  ...   \n",
            "\n",
            "                                       29  call.33   30  call.34   31  \\\n",
            "Gene Description                                                        \n",
            "AFFX-BioB-5_at (endogenous control)    15        A -318        A  -32   \n",
            "AFFX-BioB-M_at (endogenous control)  -114        A -192        A  -49   \n",
            "AFFX-BioB-3_at (endogenous control)     2        A  -95        A   49   \n",
            "AFFX-BioC-5_at (endogenous control)   193        A  312        A  230   \n",
            "AFFX-BioC-3_at (endogenous control)   -51        A -139        A -367   \n",
            "AFFX-BioDn-5_at (endogenous control) -155        A -344        A -508   \n",
            "AFFX-BioDn-3_at (endogenous control)   29        A  324        A -349   \n",
            "AFFX-CreX-5_at (endogenous control)  -105        A -237        A -194   \n",
            "AFFX-CreX-3_at (endogenous control)    42        A  105        A   34   \n",
            "AFFX-BioB-5_st (endogenous control)   524        A  167        A  -56   \n",
            "\n",
            "                                      call.35   32  call.36   33  call.37  \n",
            "Gene Description                                                           \n",
            "AFFX-BioB-5_at (endogenous control)         A -124        A -135        A  \n",
            "AFFX-BioB-M_at (endogenous control)         A  -79        A -186        A  \n",
            "AFFX-BioB-3_at (endogenous control)         A  -37        A  -70        A  \n",
            "AFFX-BioC-5_at (endogenous control)         P  330        A  337        A  \n",
            "AFFX-BioC-3_at (endogenous control)         A -188        A -407        A  \n",
            "AFFX-BioDn-5_at (endogenous control)        A -423        A -566        A  \n",
            "AFFX-BioDn-3_at (endogenous control)        A  -31        A -141        A  \n",
            "AFFX-CreX-5_at (endogenous control)         A -223        A -315        A  \n",
            "AFFX-CreX-3_at (endogenous control)         A  -82        A  206        A  \n",
            "AFFX-BioB-5_st (endogenous control)         A  176        A  321        A  \n",
            "\n",
            "[10 rows x 77 columns]\n",
            "Index(['Gene Accession Number', '1', 'call', '2', 'call.1', '3', 'call.2', '4',\n",
            "       'call.3', '5', 'call.4', '6', 'call.5', '7', 'call.6', '8', 'call.7',\n",
            "       '9', 'call.8', '10', 'call.9', '11', 'call.10', '12', 'call.11', '13',\n",
            "       'call.12', '14', 'call.13', '15', 'call.14', '16', 'call.15', '17',\n",
            "       'call.16', '18', 'call.17', '19', 'call.18', '20', 'call.19', '21',\n",
            "       'call.20', '22', 'call.21', '23', 'call.22', '24', 'call.23', '25',\n",
            "       'call.24', '26', 'call.25', '27', 'call.26', '34', 'call.27', '35',\n",
            "       'call.28', '36', 'call.29', '37', 'call.30', '38', 'call.31', '28',\n",
            "       'call.32', '29', 'call.33', '30', 'call.34', '31', 'call.35', '32',\n",
            "       'call.36', '33', 'call.37'],\n",
            "      dtype='object')\n"
          ]
        }
      ]
    },
    {
      "cell_type": "code",
      "source": [
        "import pandas as pd\n",
        "from sklearn.preprocessing import StandardScaler\n",
        "\n",
        "# Load the data\n",
        "df = pd.read_csv(\"gene_expression_data/data_set_ALL_AML_train.csv\", index_col=0)\n",
        "\n",
        "# Drop metadata columns — keep only numeric expression columns\n",
        "expression_cols = [col for col in df.columns if not col.startswith(\"call\")]\n",
        "X = df[expression_cols]\n",
        "\n",
        "# Transpose so samples are rows and genes are features\n",
        "X = X.T\n",
        "\n",
        "# Convert to float and handle errors\n",
        "X = X.apply(pd.to_numeric, errors='coerce')\n",
        "\n",
        "# Drop any samples or genes with missing values\n",
        "X = X.dropna(axis=0)  # drop rows (samples) with NaN\n",
        "X = X.dropna(axis=1)  # drop columns (genes) with NaN\n",
        "\n",
        "# Normalize the expression data\n",
        "scaler = StandardScaler()\n",
        "X_scaled = scaler.fit_transform(X)\n",
        "\n",
        "print(\"Final shape after cleaning:\", X_scaled.shape)\n",
        "\n"
      ],
      "metadata": {
        "colab": {
          "base_uri": "https://localhost:8080/"
        },
        "id": "QpI3JhkGgNKI",
        "outputId": "71e8c4a9-8838-4a55-f355-61015d873be6"
      },
      "execution_count": 70,
      "outputs": [
        {
          "output_type": "stream",
          "name": "stdout",
          "text": [
            "Final shape after cleaning: (38, 7129)\n"
          ]
        }
      ]
    },
    {
      "cell_type": "code",
      "source": [
        "# Load the labels from dataset_description.csv\n",
        "labels_df = pd.read_csv(\"gene_expression_data/actual.csv\")\n",
        "\n",
        "# ONLY keep the first 38 labels to match X\n",
        "labels_df = labels_df.iloc[:38]\n",
        "\n",
        "# Get the target column\n",
        "y = labels_df[\"cancer\"].values  # This should now have shape (38,)\n",
        "\n",
        "# Encode labels\n",
        "from sklearn.preprocessing import LabelEncoder\n",
        "le = LabelEncoder()\n",
        "y_encoded = le.fit_transform(y)\n",
        "\n",
        "# Now split data\n",
        "from sklearn.model_selection import train_test_split\n",
        "X_train, X_test, y_train, y_test = train_test_split(X, y_encoded, test_size=0.2, random_state=42)\n",
        "\n",
        "print(\"Shapes after split:\")\n",
        "print(\"X_train:\", X_train.shape)\n",
        "print(\"X_test:\", X_test.shape)\n",
        "print(\"y_train:\", y_train.shape)\n",
        "print(\"y_test:\", y_test.shape)\n",
        "\n"
      ],
      "metadata": {
        "colab": {
          "base_uri": "https://localhost:8080/"
        },
        "id": "NXg4KJD-s7-e",
        "outputId": "cae74bb9-e1e0-4e2e-fc92-df9f8f5fdd7c"
      },
      "execution_count": 73,
      "outputs": [
        {
          "output_type": "stream",
          "name": "stdout",
          "text": [
            "Shapes after split:\n",
            "X_train: (30, 7129)\n",
            "X_test: (8, 7129)\n",
            "y_train: (30,)\n",
            "y_test: (8,)\n"
          ]
        }
      ]
    },
    {
      "cell_type": "code",
      "source": [
        "from sklearn.preprocessing import MinMaxScaler\n",
        "\n",
        "scaler = MinMaxScaler()\n",
        "X_train_scaled = scaler.fit_transform(X_train)\n",
        "X_test_scaled = scaler.transform(X_test)\n",
        "\n"
      ],
      "metadata": {
        "id": "kPTJmMs3lUn3"
      },
      "execution_count": 74,
      "outputs": []
    },
    {
      "cell_type": "code",
      "source": [
        "from sklearn.neural_network import BernoulliRBM\n",
        "from sklearn.linear_model import LogisticRegression\n",
        "from sklearn.pipeline import Pipeline\n",
        "\n",
        "# Initialize RBM and classifier\n",
        "rbm = BernoulliRBM(n_components=100, learning_rate=0.01, batch_size=10, n_iter=20, verbose=True)\n",
        "logistic = LogisticRegression(max_iter=1000)\n",
        "\n",
        "# Pipeline\n",
        "rbm_pipeline = Pipeline(steps=[('rbm', rbm), ('logistic', logistic)])\n"
      ],
      "metadata": {
        "id": "JffeuVadnQEj"
      },
      "execution_count": 75,
      "outputs": []
    },
    {
      "cell_type": "code",
      "source": [
        "rbm_pipeline.fit(X_train_scaled, y_train)\n"
      ],
      "metadata": {
        "colab": {
          "base_uri": "https://localhost:8080/",
          "height": 502
        },
        "id": "ZU3D1Rddo8F_",
        "outputId": "f81ad05c-7895-4544-8bac-e1a69cbb9fc6"
      },
      "execution_count": 76,
      "outputs": [
        {
          "output_type": "stream",
          "name": "stdout",
          "text": [
            "[BernoulliRBM] Iteration 1, pseudo-likelihood = -4699.27, time = 0.04s\n",
            "[BernoulliRBM] Iteration 2, pseudo-likelihood = -4561.65, time = 0.04s\n",
            "[BernoulliRBM] Iteration 3, pseudo-likelihood = -4380.44, time = 0.04s\n",
            "[BernoulliRBM] Iteration 4, pseudo-likelihood = -4791.13, time = 0.04s\n",
            "[BernoulliRBM] Iteration 5, pseudo-likelihood = -4398.46, time = 0.14s\n",
            "[BernoulliRBM] Iteration 6, pseudo-likelihood = -4893.85, time = 0.10s\n",
            "[BernoulliRBM] Iteration 7, pseudo-likelihood = -4236.41, time = 0.08s\n",
            "[BernoulliRBM] Iteration 8, pseudo-likelihood = -4294.96, time = 0.92s\n",
            "[BernoulliRBM] Iteration 9, pseudo-likelihood = -4845.12, time = 0.35s\n",
            "[BernoulliRBM] Iteration 10, pseudo-likelihood = -4479.85, time = 0.14s\n",
            "[BernoulliRBM] Iteration 11, pseudo-likelihood = -4131.83, time = 0.04s\n",
            "[BernoulliRBM] Iteration 12, pseudo-likelihood = -4393.45, time = 0.04s\n",
            "[BernoulliRBM] Iteration 13, pseudo-likelihood = -3967.84, time = 0.04s\n",
            "[BernoulliRBM] Iteration 14, pseudo-likelihood = -4520.47, time = 0.04s\n",
            "[BernoulliRBM] Iteration 15, pseudo-likelihood = -4116.79, time = 0.04s\n",
            "[BernoulliRBM] Iteration 16, pseudo-likelihood = -4301.67, time = 0.04s\n",
            "[BernoulliRBM] Iteration 17, pseudo-likelihood = -4500.00, time = 0.04s\n",
            "[BernoulliRBM] Iteration 18, pseudo-likelihood = -3990.32, time = 0.04s\n",
            "[BernoulliRBM] Iteration 19, pseudo-likelihood = -4580.03, time = 0.04s\n",
            "[BernoulliRBM] Iteration 20, pseudo-likelihood = -4478.44, time = 0.04s\n"
          ]
        },
        {
          "output_type": "execute_result",
          "data": {
            "text/plain": [
              "Pipeline(steps=[('rbm',\n",
              "                 BernoulliRBM(learning_rate=0.01, n_components=100, n_iter=20,\n",
              "                              verbose=True)),\n",
              "                ('logistic', LogisticRegression(max_iter=1000))])"
            ],
            "text/html": [
              "<style>#sk-container-id-1 {\n",
              "  /* Definition of color scheme common for light and dark mode */\n",
              "  --sklearn-color-text: #000;\n",
              "  --sklearn-color-text-muted: #666;\n",
              "  --sklearn-color-line: gray;\n",
              "  /* Definition of color scheme for unfitted estimators */\n",
              "  --sklearn-color-unfitted-level-0: #fff5e6;\n",
              "  --sklearn-color-unfitted-level-1: #f6e4d2;\n",
              "  --sklearn-color-unfitted-level-2: #ffe0b3;\n",
              "  --sklearn-color-unfitted-level-3: chocolate;\n",
              "  /* Definition of color scheme for fitted estimators */\n",
              "  --sklearn-color-fitted-level-0: #f0f8ff;\n",
              "  --sklearn-color-fitted-level-1: #d4ebff;\n",
              "  --sklearn-color-fitted-level-2: #b3dbfd;\n",
              "  --sklearn-color-fitted-level-3: cornflowerblue;\n",
              "\n",
              "  /* Specific color for light theme */\n",
              "  --sklearn-color-text-on-default-background: var(--sg-text-color, var(--theme-code-foreground, var(--jp-content-font-color1, black)));\n",
              "  --sklearn-color-background: var(--sg-background-color, var(--theme-background, var(--jp-layout-color0, white)));\n",
              "  --sklearn-color-border-box: var(--sg-text-color, var(--theme-code-foreground, var(--jp-content-font-color1, black)));\n",
              "  --sklearn-color-icon: #696969;\n",
              "\n",
              "  @media (prefers-color-scheme: dark) {\n",
              "    /* Redefinition of color scheme for dark theme */\n",
              "    --sklearn-color-text-on-default-background: var(--sg-text-color, var(--theme-code-foreground, var(--jp-content-font-color1, white)));\n",
              "    --sklearn-color-background: var(--sg-background-color, var(--theme-background, var(--jp-layout-color0, #111)));\n",
              "    --sklearn-color-border-box: var(--sg-text-color, var(--theme-code-foreground, var(--jp-content-font-color1, white)));\n",
              "    --sklearn-color-icon: #878787;\n",
              "  }\n",
              "}\n",
              "\n",
              "#sk-container-id-1 {\n",
              "  color: var(--sklearn-color-text);\n",
              "}\n",
              "\n",
              "#sk-container-id-1 pre {\n",
              "  padding: 0;\n",
              "}\n",
              "\n",
              "#sk-container-id-1 input.sk-hidden--visually {\n",
              "  border: 0;\n",
              "  clip: rect(1px 1px 1px 1px);\n",
              "  clip: rect(1px, 1px, 1px, 1px);\n",
              "  height: 1px;\n",
              "  margin: -1px;\n",
              "  overflow: hidden;\n",
              "  padding: 0;\n",
              "  position: absolute;\n",
              "  width: 1px;\n",
              "}\n",
              "\n",
              "#sk-container-id-1 div.sk-dashed-wrapped {\n",
              "  border: 1px dashed var(--sklearn-color-line);\n",
              "  margin: 0 0.4em 0.5em 0.4em;\n",
              "  box-sizing: border-box;\n",
              "  padding-bottom: 0.4em;\n",
              "  background-color: var(--sklearn-color-background);\n",
              "}\n",
              "\n",
              "#sk-container-id-1 div.sk-container {\n",
              "  /* jupyter's `normalize.less` sets `[hidden] { display: none; }`\n",
              "     but bootstrap.min.css set `[hidden] { display: none !important; }`\n",
              "     so we also need the `!important` here to be able to override the\n",
              "     default hidden behavior on the sphinx rendered scikit-learn.org.\n",
              "     See: https://github.com/scikit-learn/scikit-learn/issues/21755 */\n",
              "  display: inline-block !important;\n",
              "  position: relative;\n",
              "}\n",
              "\n",
              "#sk-container-id-1 div.sk-text-repr-fallback {\n",
              "  display: none;\n",
              "}\n",
              "\n",
              "div.sk-parallel-item,\n",
              "div.sk-serial,\n",
              "div.sk-item {\n",
              "  /* draw centered vertical line to link estimators */\n",
              "  background-image: linear-gradient(var(--sklearn-color-text-on-default-background), var(--sklearn-color-text-on-default-background));\n",
              "  background-size: 2px 100%;\n",
              "  background-repeat: no-repeat;\n",
              "  background-position: center center;\n",
              "}\n",
              "\n",
              "/* Parallel-specific style estimator block */\n",
              "\n",
              "#sk-container-id-1 div.sk-parallel-item::after {\n",
              "  content: \"\";\n",
              "  width: 100%;\n",
              "  border-bottom: 2px solid var(--sklearn-color-text-on-default-background);\n",
              "  flex-grow: 1;\n",
              "}\n",
              "\n",
              "#sk-container-id-1 div.sk-parallel {\n",
              "  display: flex;\n",
              "  align-items: stretch;\n",
              "  justify-content: center;\n",
              "  background-color: var(--sklearn-color-background);\n",
              "  position: relative;\n",
              "}\n",
              "\n",
              "#sk-container-id-1 div.sk-parallel-item {\n",
              "  display: flex;\n",
              "  flex-direction: column;\n",
              "}\n",
              "\n",
              "#sk-container-id-1 div.sk-parallel-item:first-child::after {\n",
              "  align-self: flex-end;\n",
              "  width: 50%;\n",
              "}\n",
              "\n",
              "#sk-container-id-1 div.sk-parallel-item:last-child::after {\n",
              "  align-self: flex-start;\n",
              "  width: 50%;\n",
              "}\n",
              "\n",
              "#sk-container-id-1 div.sk-parallel-item:only-child::after {\n",
              "  width: 0;\n",
              "}\n",
              "\n",
              "/* Serial-specific style estimator block */\n",
              "\n",
              "#sk-container-id-1 div.sk-serial {\n",
              "  display: flex;\n",
              "  flex-direction: column;\n",
              "  align-items: center;\n",
              "  background-color: var(--sklearn-color-background);\n",
              "  padding-right: 1em;\n",
              "  padding-left: 1em;\n",
              "}\n",
              "\n",
              "\n",
              "/* Toggleable style: style used for estimator/Pipeline/ColumnTransformer box that is\n",
              "clickable and can be expanded/collapsed.\n",
              "- Pipeline and ColumnTransformer use this feature and define the default style\n",
              "- Estimators will overwrite some part of the style using the `sk-estimator` class\n",
              "*/\n",
              "\n",
              "/* Pipeline and ColumnTransformer style (default) */\n",
              "\n",
              "#sk-container-id-1 div.sk-toggleable {\n",
              "  /* Default theme specific background. It is overwritten whether we have a\n",
              "  specific estimator or a Pipeline/ColumnTransformer */\n",
              "  background-color: var(--sklearn-color-background);\n",
              "}\n",
              "\n",
              "/* Toggleable label */\n",
              "#sk-container-id-1 label.sk-toggleable__label {\n",
              "  cursor: pointer;\n",
              "  display: flex;\n",
              "  width: 100%;\n",
              "  margin-bottom: 0;\n",
              "  padding: 0.5em;\n",
              "  box-sizing: border-box;\n",
              "  text-align: center;\n",
              "  align-items: start;\n",
              "  justify-content: space-between;\n",
              "  gap: 0.5em;\n",
              "}\n",
              "\n",
              "#sk-container-id-1 label.sk-toggleable__label .caption {\n",
              "  font-size: 0.6rem;\n",
              "  font-weight: lighter;\n",
              "  color: var(--sklearn-color-text-muted);\n",
              "}\n",
              "\n",
              "#sk-container-id-1 label.sk-toggleable__label-arrow:before {\n",
              "  /* Arrow on the left of the label */\n",
              "  content: \"▸\";\n",
              "  float: left;\n",
              "  margin-right: 0.25em;\n",
              "  color: var(--sklearn-color-icon);\n",
              "}\n",
              "\n",
              "#sk-container-id-1 label.sk-toggleable__label-arrow:hover:before {\n",
              "  color: var(--sklearn-color-text);\n",
              "}\n",
              "\n",
              "/* Toggleable content - dropdown */\n",
              "\n",
              "#sk-container-id-1 div.sk-toggleable__content {\n",
              "  max-height: 0;\n",
              "  max-width: 0;\n",
              "  overflow: hidden;\n",
              "  text-align: left;\n",
              "  /* unfitted */\n",
              "  background-color: var(--sklearn-color-unfitted-level-0);\n",
              "}\n",
              "\n",
              "#sk-container-id-1 div.sk-toggleable__content.fitted {\n",
              "  /* fitted */\n",
              "  background-color: var(--sklearn-color-fitted-level-0);\n",
              "}\n",
              "\n",
              "#sk-container-id-1 div.sk-toggleable__content pre {\n",
              "  margin: 0.2em;\n",
              "  border-radius: 0.25em;\n",
              "  color: var(--sklearn-color-text);\n",
              "  /* unfitted */\n",
              "  background-color: var(--sklearn-color-unfitted-level-0);\n",
              "}\n",
              "\n",
              "#sk-container-id-1 div.sk-toggleable__content.fitted pre {\n",
              "  /* unfitted */\n",
              "  background-color: var(--sklearn-color-fitted-level-0);\n",
              "}\n",
              "\n",
              "#sk-container-id-1 input.sk-toggleable__control:checked~div.sk-toggleable__content {\n",
              "  /* Expand drop-down */\n",
              "  max-height: 200px;\n",
              "  max-width: 100%;\n",
              "  overflow: auto;\n",
              "}\n",
              "\n",
              "#sk-container-id-1 input.sk-toggleable__control:checked~label.sk-toggleable__label-arrow:before {\n",
              "  content: \"▾\";\n",
              "}\n",
              "\n",
              "/* Pipeline/ColumnTransformer-specific style */\n",
              "\n",
              "#sk-container-id-1 div.sk-label input.sk-toggleable__control:checked~label.sk-toggleable__label {\n",
              "  color: var(--sklearn-color-text);\n",
              "  background-color: var(--sklearn-color-unfitted-level-2);\n",
              "}\n",
              "\n",
              "#sk-container-id-1 div.sk-label.fitted input.sk-toggleable__control:checked~label.sk-toggleable__label {\n",
              "  background-color: var(--sklearn-color-fitted-level-2);\n",
              "}\n",
              "\n",
              "/* Estimator-specific style */\n",
              "\n",
              "/* Colorize estimator box */\n",
              "#sk-container-id-1 div.sk-estimator input.sk-toggleable__control:checked~label.sk-toggleable__label {\n",
              "  /* unfitted */\n",
              "  background-color: var(--sklearn-color-unfitted-level-2);\n",
              "}\n",
              "\n",
              "#sk-container-id-1 div.sk-estimator.fitted input.sk-toggleable__control:checked~label.sk-toggleable__label {\n",
              "  /* fitted */\n",
              "  background-color: var(--sklearn-color-fitted-level-2);\n",
              "}\n",
              "\n",
              "#sk-container-id-1 div.sk-label label.sk-toggleable__label,\n",
              "#sk-container-id-1 div.sk-label label {\n",
              "  /* The background is the default theme color */\n",
              "  color: var(--sklearn-color-text-on-default-background);\n",
              "}\n",
              "\n",
              "/* On hover, darken the color of the background */\n",
              "#sk-container-id-1 div.sk-label:hover label.sk-toggleable__label {\n",
              "  color: var(--sklearn-color-text);\n",
              "  background-color: var(--sklearn-color-unfitted-level-2);\n",
              "}\n",
              "\n",
              "/* Label box, darken color on hover, fitted */\n",
              "#sk-container-id-1 div.sk-label.fitted:hover label.sk-toggleable__label.fitted {\n",
              "  color: var(--sklearn-color-text);\n",
              "  background-color: var(--sklearn-color-fitted-level-2);\n",
              "}\n",
              "\n",
              "/* Estimator label */\n",
              "\n",
              "#sk-container-id-1 div.sk-label label {\n",
              "  font-family: monospace;\n",
              "  font-weight: bold;\n",
              "  display: inline-block;\n",
              "  line-height: 1.2em;\n",
              "}\n",
              "\n",
              "#sk-container-id-1 div.sk-label-container {\n",
              "  text-align: center;\n",
              "}\n",
              "\n",
              "/* Estimator-specific */\n",
              "#sk-container-id-1 div.sk-estimator {\n",
              "  font-family: monospace;\n",
              "  border: 1px dotted var(--sklearn-color-border-box);\n",
              "  border-radius: 0.25em;\n",
              "  box-sizing: border-box;\n",
              "  margin-bottom: 0.5em;\n",
              "  /* unfitted */\n",
              "  background-color: var(--sklearn-color-unfitted-level-0);\n",
              "}\n",
              "\n",
              "#sk-container-id-1 div.sk-estimator.fitted {\n",
              "  /* fitted */\n",
              "  background-color: var(--sklearn-color-fitted-level-0);\n",
              "}\n",
              "\n",
              "/* on hover */\n",
              "#sk-container-id-1 div.sk-estimator:hover {\n",
              "  /* unfitted */\n",
              "  background-color: var(--sklearn-color-unfitted-level-2);\n",
              "}\n",
              "\n",
              "#sk-container-id-1 div.sk-estimator.fitted:hover {\n",
              "  /* fitted */\n",
              "  background-color: var(--sklearn-color-fitted-level-2);\n",
              "}\n",
              "\n",
              "/* Specification for estimator info (e.g. \"i\" and \"?\") */\n",
              "\n",
              "/* Common style for \"i\" and \"?\" */\n",
              "\n",
              ".sk-estimator-doc-link,\n",
              "a:link.sk-estimator-doc-link,\n",
              "a:visited.sk-estimator-doc-link {\n",
              "  float: right;\n",
              "  font-size: smaller;\n",
              "  line-height: 1em;\n",
              "  font-family: monospace;\n",
              "  background-color: var(--sklearn-color-background);\n",
              "  border-radius: 1em;\n",
              "  height: 1em;\n",
              "  width: 1em;\n",
              "  text-decoration: none !important;\n",
              "  margin-left: 0.5em;\n",
              "  text-align: center;\n",
              "  /* unfitted */\n",
              "  border: var(--sklearn-color-unfitted-level-1) 1pt solid;\n",
              "  color: var(--sklearn-color-unfitted-level-1);\n",
              "}\n",
              "\n",
              ".sk-estimator-doc-link.fitted,\n",
              "a:link.sk-estimator-doc-link.fitted,\n",
              "a:visited.sk-estimator-doc-link.fitted {\n",
              "  /* fitted */\n",
              "  border: var(--sklearn-color-fitted-level-1) 1pt solid;\n",
              "  color: var(--sklearn-color-fitted-level-1);\n",
              "}\n",
              "\n",
              "/* On hover */\n",
              "div.sk-estimator:hover .sk-estimator-doc-link:hover,\n",
              ".sk-estimator-doc-link:hover,\n",
              "div.sk-label-container:hover .sk-estimator-doc-link:hover,\n",
              ".sk-estimator-doc-link:hover {\n",
              "  /* unfitted */\n",
              "  background-color: var(--sklearn-color-unfitted-level-3);\n",
              "  color: var(--sklearn-color-background);\n",
              "  text-decoration: none;\n",
              "}\n",
              "\n",
              "div.sk-estimator.fitted:hover .sk-estimator-doc-link.fitted:hover,\n",
              ".sk-estimator-doc-link.fitted:hover,\n",
              "div.sk-label-container:hover .sk-estimator-doc-link.fitted:hover,\n",
              ".sk-estimator-doc-link.fitted:hover {\n",
              "  /* fitted */\n",
              "  background-color: var(--sklearn-color-fitted-level-3);\n",
              "  color: var(--sklearn-color-background);\n",
              "  text-decoration: none;\n",
              "}\n",
              "\n",
              "/* Span, style for the box shown on hovering the info icon */\n",
              ".sk-estimator-doc-link span {\n",
              "  display: none;\n",
              "  z-index: 9999;\n",
              "  position: relative;\n",
              "  font-weight: normal;\n",
              "  right: .2ex;\n",
              "  padding: .5ex;\n",
              "  margin: .5ex;\n",
              "  width: min-content;\n",
              "  min-width: 20ex;\n",
              "  max-width: 50ex;\n",
              "  color: var(--sklearn-color-text);\n",
              "  box-shadow: 2pt 2pt 4pt #999;\n",
              "  /* unfitted */\n",
              "  background: var(--sklearn-color-unfitted-level-0);\n",
              "  border: .5pt solid var(--sklearn-color-unfitted-level-3);\n",
              "}\n",
              "\n",
              ".sk-estimator-doc-link.fitted span {\n",
              "  /* fitted */\n",
              "  background: var(--sklearn-color-fitted-level-0);\n",
              "  border: var(--sklearn-color-fitted-level-3);\n",
              "}\n",
              "\n",
              ".sk-estimator-doc-link:hover span {\n",
              "  display: block;\n",
              "}\n",
              "\n",
              "/* \"?\"-specific style due to the `<a>` HTML tag */\n",
              "\n",
              "#sk-container-id-1 a.estimator_doc_link {\n",
              "  float: right;\n",
              "  font-size: 1rem;\n",
              "  line-height: 1em;\n",
              "  font-family: monospace;\n",
              "  background-color: var(--sklearn-color-background);\n",
              "  border-radius: 1rem;\n",
              "  height: 1rem;\n",
              "  width: 1rem;\n",
              "  text-decoration: none;\n",
              "  /* unfitted */\n",
              "  color: var(--sklearn-color-unfitted-level-1);\n",
              "  border: var(--sklearn-color-unfitted-level-1) 1pt solid;\n",
              "}\n",
              "\n",
              "#sk-container-id-1 a.estimator_doc_link.fitted {\n",
              "  /* fitted */\n",
              "  border: var(--sklearn-color-fitted-level-1) 1pt solid;\n",
              "  color: var(--sklearn-color-fitted-level-1);\n",
              "}\n",
              "\n",
              "/* On hover */\n",
              "#sk-container-id-1 a.estimator_doc_link:hover {\n",
              "  /* unfitted */\n",
              "  background-color: var(--sklearn-color-unfitted-level-3);\n",
              "  color: var(--sklearn-color-background);\n",
              "  text-decoration: none;\n",
              "}\n",
              "\n",
              "#sk-container-id-1 a.estimator_doc_link.fitted:hover {\n",
              "  /* fitted */\n",
              "  background-color: var(--sklearn-color-fitted-level-3);\n",
              "}\n",
              "</style><div id=\"sk-container-id-1\" class=\"sk-top-container\"><div class=\"sk-text-repr-fallback\"><pre>Pipeline(steps=[(&#x27;rbm&#x27;,\n",
              "                 BernoulliRBM(learning_rate=0.01, n_components=100, n_iter=20,\n",
              "                              verbose=True)),\n",
              "                (&#x27;logistic&#x27;, LogisticRegression(max_iter=1000))])</pre><b>In a Jupyter environment, please rerun this cell to show the HTML representation or trust the notebook. <br />On GitHub, the HTML representation is unable to render, please try loading this page with nbviewer.org.</b></div><div class=\"sk-container\" hidden><div class=\"sk-item sk-dashed-wrapped\"><div class=\"sk-label-container\"><div class=\"sk-label fitted sk-toggleable\"><input class=\"sk-toggleable__control sk-hidden--visually\" id=\"sk-estimator-id-1\" type=\"checkbox\" ><label for=\"sk-estimator-id-1\" class=\"sk-toggleable__label fitted sk-toggleable__label-arrow\"><div><div>Pipeline</div></div><div><a class=\"sk-estimator-doc-link fitted\" rel=\"noreferrer\" target=\"_blank\" href=\"https://scikit-learn.org/1.6/modules/generated/sklearn.pipeline.Pipeline.html\">?<span>Documentation for Pipeline</span></a><span class=\"sk-estimator-doc-link fitted\">i<span>Fitted</span></span></div></label><div class=\"sk-toggleable__content fitted\"><pre>Pipeline(steps=[(&#x27;rbm&#x27;,\n",
              "                 BernoulliRBM(learning_rate=0.01, n_components=100, n_iter=20,\n",
              "                              verbose=True)),\n",
              "                (&#x27;logistic&#x27;, LogisticRegression(max_iter=1000))])</pre></div> </div></div><div class=\"sk-serial\"><div class=\"sk-item\"><div class=\"sk-estimator fitted sk-toggleable\"><input class=\"sk-toggleable__control sk-hidden--visually\" id=\"sk-estimator-id-2\" type=\"checkbox\" ><label for=\"sk-estimator-id-2\" class=\"sk-toggleable__label fitted sk-toggleable__label-arrow\"><div><div>BernoulliRBM</div></div><div><a class=\"sk-estimator-doc-link fitted\" rel=\"noreferrer\" target=\"_blank\" href=\"https://scikit-learn.org/1.6/modules/generated/sklearn.neural_network.BernoulliRBM.html\">?<span>Documentation for BernoulliRBM</span></a></div></label><div class=\"sk-toggleable__content fitted\"><pre>BernoulliRBM(learning_rate=0.01, n_components=100, n_iter=20, verbose=True)</pre></div> </div></div><div class=\"sk-item\"><div class=\"sk-estimator fitted sk-toggleable\"><input class=\"sk-toggleable__control sk-hidden--visually\" id=\"sk-estimator-id-3\" type=\"checkbox\" ><label for=\"sk-estimator-id-3\" class=\"sk-toggleable__label fitted sk-toggleable__label-arrow\"><div><div>LogisticRegression</div></div><div><a class=\"sk-estimator-doc-link fitted\" rel=\"noreferrer\" target=\"_blank\" href=\"https://scikit-learn.org/1.6/modules/generated/sklearn.linear_model.LogisticRegression.html\">?<span>Documentation for LogisticRegression</span></a></div></label><div class=\"sk-toggleable__content fitted\"><pre>LogisticRegression(max_iter=1000)</pre></div> </div></div></div></div></div></div>"
            ]
          },
          "metadata": {},
          "execution_count": 76
        }
      ]
    },
    {
      "cell_type": "code",
      "source": [
        "from sklearn.metrics import classification_report, accuracy_score\n",
        "\n",
        "y_pred = rbm_pipeline.predict(X_test_scaled)\n",
        "\n",
        "print(\"Accuracy:\", accuracy_score(y_test, y_pred))\n",
        "print(\"\\nClassification Report:\")\n",
        "print(classification_report(y_test, y_pred, target_names=le.classes_))\n"
      ],
      "metadata": {
        "colab": {
          "base_uri": "https://localhost:8080/"
        },
        "id": "wlIvvQvovFGS",
        "outputId": "bf8c6a81-5c29-49c7-ef16-89fdacbf8da8"
      },
      "execution_count": 77,
      "outputs": [
        {
          "output_type": "stream",
          "name": "stdout",
          "text": [
            "Accuracy: 0.5\n",
            "\n",
            "Classification Report:\n",
            "              precision    recall  f1-score   support\n",
            "\n",
            "         ALL       0.50      1.00      0.67         4\n",
            "         AML       0.00      0.00      0.00         4\n",
            "\n",
            "    accuracy                           0.50         8\n",
            "   macro avg       0.25      0.50      0.33         8\n",
            "weighted avg       0.25      0.50      0.33         8\n",
            "\n"
          ]
        },
        {
          "output_type": "stream",
          "name": "stderr",
          "text": [
            "/usr/local/lib/python3.11/dist-packages/sklearn/metrics/_classification.py:1565: UndefinedMetricWarning: Precision is ill-defined and being set to 0.0 in labels with no predicted samples. Use `zero_division` parameter to control this behavior.\n",
            "  _warn_prf(average, modifier, f\"{metric.capitalize()} is\", len(result))\n",
            "/usr/local/lib/python3.11/dist-packages/sklearn/metrics/_classification.py:1565: UndefinedMetricWarning: Precision is ill-defined and being set to 0.0 in labels with no predicted samples. Use `zero_division` parameter to control this behavior.\n",
            "  _warn_prf(average, modifier, f\"{metric.capitalize()} is\", len(result))\n",
            "/usr/local/lib/python3.11/dist-packages/sklearn/metrics/_classification.py:1565: UndefinedMetricWarning: Precision is ill-defined and being set to 0.0 in labels with no predicted samples. Use `zero_division` parameter to control this behavior.\n",
            "  _warn_prf(average, modifier, f\"{metric.capitalize()} is\", len(result))\n"
          ]
        }
      ]
    },
    {
      "cell_type": "code",
      "source": [
        "# Weights learned by RBM\n",
        "weights = rbm.components_\n",
        "\n",
        "# Find top contributing genes for each hidden unit\n",
        "import numpy as np\n",
        "\n",
        "top_genes_idx = np.argsort(np.abs(weights), axis=1)[:, -10:]  # Top 10 for each hidden unit\n"
      ],
      "metadata": {
        "id": "c9jcsSp8vOLF"
      },
      "execution_count": 78,
      "outputs": []
    },
    {
      "cell_type": "code",
      "source": [
        "from sklearn.preprocessing import MinMaxScaler, LabelEncoder\n",
        "from sklearn.model_selection import train_test_split\n",
        "from sklearn.neural_network import BernoulliRBM\n",
        "from sklearn.linear_model import LogisticRegression\n",
        "from sklearn.pipeline import Pipeline\n",
        "from sklearn.metrics import classification_report, accuracy_score\n",
        "import numpy as np\n",
        "\n",
        "# Normalize features to [0, 1]\n",
        "scaler = MinMaxScaler()\n",
        "X_train_scaled = scaler.fit_transform(X_train)\n",
        "X_test_scaled = scaler.transform(X_test)\n",
        "\n",
        "# Define RBM + Classifier pipeline\n",
        "rbm = BernoulliRBM(n_components=100, learning_rate=0.01, batch_size=10, n_iter=20, verbose=True)\n",
        "logistic = LogisticRegression(max_iter=1000)\n",
        "pipeline = Pipeline(steps=[('rbm', rbm), ('logistic', logistic)])\n",
        "\n",
        "# Train\n",
        "pipeline.fit(X_train_scaled, y_train)\n",
        "\n",
        "# Evaluate\n",
        "y_pred = pipeline.predict(X_test_scaled)\n",
        "print(\"Accuracy:\", accuracy_score(y_test, y_pred))\n",
        "print(\"\\nClassification Report:\")\n",
        "print(classification_report(y_test, y_pred, target_names=le.classes_))\n",
        "\n",
        "# Optional: Gene selection via top RBM weights\n",
        "weights = rbm.components_  # Shape: [n_components, n_features]\n",
        "top_features = np.argsort(np.abs(weights), axis=1)[:, -10:]  # Top 10 genes per component\n",
        "\n",
        "print(\"\\nTop genes per RBM hidden unit (as feature indices):\")\n",
        "print(top_features)\n"
      ],
      "metadata": {
        "colab": {
          "base_uri": "https://localhost:8080/"
        },
        "id": "-hoexz6HvSbJ",
        "outputId": "6133f033-e4f1-4c8a-8944-f71895d4dfff"
      },
      "execution_count": 79,
      "outputs": [
        {
          "output_type": "stream",
          "name": "stdout",
          "text": [
            "[BernoulliRBM] Iteration 1, pseudo-likelihood = -4718.19, time = 0.04s\n",
            "[BernoulliRBM] Iteration 2, pseudo-likelihood = -4628.52, time = 0.06s\n",
            "[BernoulliRBM] Iteration 3, pseudo-likelihood = -4206.38, time = 0.13s\n",
            "[BernoulliRBM] Iteration 4, pseudo-likelihood = -4500.53, time = 0.09s\n",
            "[BernoulliRBM] Iteration 5, pseudo-likelihood = -4435.73, time = 0.08s\n",
            "[BernoulliRBM] Iteration 6, pseudo-likelihood = -4731.73, time = 0.12s\n",
            "[BernoulliRBM] Iteration 7, pseudo-likelihood = -4679.97, time = 0.10s\n",
            "[BernoulliRBM] Iteration 8, pseudo-likelihood = -4214.16, time = 0.07s\n",
            "[BernoulliRBM] Iteration 9, pseudo-likelihood = -4730.87, time = 0.08s\n",
            "[BernoulliRBM] Iteration 10, pseudo-likelihood = -4692.29, time = 0.12s\n",
            "[BernoulliRBM] Iteration 11, pseudo-likelihood = -4559.22, time = 0.07s\n",
            "[BernoulliRBM] Iteration 12, pseudo-likelihood = -4754.72, time = 0.24s\n",
            "[BernoulliRBM] Iteration 13, pseudo-likelihood = -4211.95, time = 0.15s\n",
            "[BernoulliRBM] Iteration 14, pseudo-likelihood = -4297.02, time = 0.08s\n",
            "[BernoulliRBM] Iteration 15, pseudo-likelihood = -4580.36, time = 0.11s\n",
            "[BernoulliRBM] Iteration 16, pseudo-likelihood = -3784.14, time = 0.10s\n",
            "[BernoulliRBM] Iteration 17, pseudo-likelihood = -4161.56, time = 0.23s\n",
            "[BernoulliRBM] Iteration 18, pseudo-likelihood = -4528.37, time = 0.09s\n",
            "[BernoulliRBM] Iteration 19, pseudo-likelihood = -4692.05, time = 0.08s\n",
            "[BernoulliRBM] Iteration 20, pseudo-likelihood = -3977.71, time = 0.08s\n",
            "Accuracy: 0.5\n",
            "\n",
            "Classification Report:\n",
            "              precision    recall  f1-score   support\n",
            "\n",
            "         ALL       0.50      1.00      0.67         4\n",
            "         AML       0.00      0.00      0.00         4\n",
            "\n",
            "    accuracy                           0.50         8\n",
            "   macro avg       0.25      0.50      0.33         8\n",
            "weighted avg       0.25      0.50      0.33         8\n",
            "\n",
            "\n",
            "Top genes per RBM hidden unit (as feature indices):\n",
            "[[6833 5279 1472  301 6818 2829 4583 4594 6125 5536]\n",
            " [6724 4207 4244 4185 5574 6404 6572 4249 5480 7077]\n",
            " [5568 5962 5128 6149 3506 6483 2918 4521 5525 4232]\n",
            " [4266 5980 7077 3703 6351 2507 5480 6483 6181 6573]\n",
            " [6883 4372 6223 5262  452 4545  234 4711 4846 3032]\n",
            " [6483 6724 5619 5454   49 1156 6675 2011 4244 5923]\n",
            " [3229 6592 6020 2381 1942 6744 5289  648 2719 1808]\n",
            " [6223 6573  699 2427 4282 6483 5997 5480 4232 4104]\n",
            " [5971 3564 4104 4185 6307 4594  699 7077  220 6483]\n",
            " [1194 2447 4104 3703 1132 5454 5847 6592 5480 7077]\n",
            " [2120 6966 2140 2127 5804 2126 3032 2413 4155 6647]\n",
            " [6776 3781 4443 3365 3435 5214 6763 4241 5985 5975]\n",
            " [6223 5759 4869 5619 6569 3463  486 5986 2507 6483]\n",
            " [6573 6658 4244 6742 5985 4232 5971 6483 6181 7077]\n",
            " [6483 4232  528  517 6270 5679 1271 5764 4244 7077]\n",
            " [6181 2097 5807 5986 6354 3886 5217 6149 5923 5480]\n",
            " [6569 5098 6592 4185 4244 7077 5985 3564 6483 4104]\n",
            " [5480 3748 5088 2507 4415 4185 6837 6805 3122 5279]\n",
            " [7077 6276  759 6540 1888 2011 5274 1925 4104 6483]\n",
            " [ 235 6270  699 4207 6573 6007 3486 5497 7077 5480]\n",
            " [6181 4946 5327 1942 4372 5975 6483 5971 1808 1941]\n",
            " [ 875 5536 6270 1797  636 5480 4244 3032 3435 7077]\n",
            " [5498 3463 6329 5382 3886  803 4207 5759 6802 6801]\n",
            " [6483  763 3371 5480 6304 5980 5497 6991 4219 7077]\n",
            " [4265 6998  385  604 2011 5141 3181 4185 1841 5598]\n",
            " [4185 4207  235 6833 6782 6181 7077 6646 2985 5986]\n",
            " [3435  976 2415 2507 3564 2344 6573 3703 4104  266]\n",
            " [5986 3593 6782 1867 2348 3032 1891 4244 1693 4282]\n",
            " [6223  417 1332 6187 5385 6308 4232  720 4381  276]\n",
            " [  35 6149 6307 2942 5375 5619 4185 3435 1888 7077]\n",
            " [2985 5385 4104  976 3501 2699 5971 6181 1195 7077]\n",
            " [5454 6354 3564 1944 6671 5971 6181 6573 6270 7077]\n",
            " [4185 5971 6276 4659 1184 5980 5240 6181 1132 3032]\n",
            " [5544 1156 2360 4116 6335 4341 5986 3137 1925 4432]\n",
            " [ 875 3415 4249 6093 3922 4054 5598 5619 1925 1367]\n",
            " [4207 3032 2584 5986 6782 5728 2985 3703 5480 7077]\n",
            " [5480 7077 4795  528 1867 5385 4185 3435 1855 4244]\n",
            " [1156  235 5063 4063 2287 1332 5807 5375 6483 6782]\n",
            " [1952 6961 5178 6181 2014 6223  699 5986 6307 1925]\n",
            " [6565 4266  699 2985 5986 1726 1156 4244 7077 6270]\n",
            " [6093 2985 5480 2415  987 3536 2381 3772 1888 4232]\n",
            " [3949 3691 4045 2154 4185 6562 3915 1132 6818 5454]\n",
            " [5274 4248 3060 5107 4940 5480  629 5385  281 6483]\n",
            " [1164 5480 1332 6099 6782 3733 5965 6246 7021 4249]\n",
            " [6724 1311 6615 3781 3486 2447 2545  401  165 4244]\n",
            " [5425  438 2360 4354 2140 4244   37  664 4185 4455]\n",
            " [3998 6748  763 4232 4104 2415 2011 5480 6801 7077]\n",
            " [3122 6483 5986 6573 4232 6161 4206 5480 7077 5713]\n",
            " [4455 2120 2985 6874 7077 5971 5217  529 4394 4063]\n",
            " [2415 3977  281 1698 2140 4266  428 5197 4249 4054]\n",
            " [4158 1883 4104 1624 1602 5544 1888   35 6805 1400]\n",
            " [4207 2014 5480 3838 4104 5385 4185 5975 3244 1656]\n",
            " [4232 1808 4031 4104 5980 4996 5132 5480 4207 7077]\n",
            " [3958 5937 3703 2741 1252   61 1461 1881 4852  728]\n",
            " [3486 4244 6223 2985 5986 7077 5385 2127  235 5480]\n",
            " [5997 5619  763 6483 1888 3564 5480 5497 2699 7077]\n",
            " [4207 4185 2008 7077 5598 5480 4120  987 1569 2140]\n",
            " [4522 7077 6307 2985 6574 3564 6276  327 4207 6782]\n",
            " [2281 6103 5540 5274 5722 6335 3032 1942 1779 5971]\n",
            " [6304 2054 5971 4031 4063 6483 3032 5480 7077 2985]\n",
            " [4185 7077 1211 1942 5480 6658 3966 2432 4207 6483]\n",
            " [4789 3630 3435 3032 1602 2541 4942 6782 7077 2011]\n",
            " [5953 4266 6217 6782 4244  220 3748 1772 6182 2985]\n",
            " [5953 4063 1680 2711 3703 5480 4104  517 7077 4547]\n",
            " [2381 3053 6181 3435 5930 1808 4262 3262 5971  235]\n",
            " [2943 6278 6354 4547 1394  406 5702 5150 5606 2018]\n",
            " [6304 4104 2985 6479  266 6991 6182 3703 5480 7077]\n",
            " [6573 3857 3486 1132  699 1403  138 6270 6795  280]\n",
            " [5980 1808 5640 1881 2011 3060 2127 5953 5986 1902]\n",
            " [5728 1952 1668 4063 7077  636 4104 4923 6304 5480]\n",
            " [6199 6538 2958 4266 3564 6329 4054 5764 6354 6181]\n",
            " [5980 5107 4244 2541  144 4232 1278  692 7077 4185]\n",
            " [2060 5990 1888 2140 6483 3486 2591 5385 5975 3876]\n",
            " [6742 2127 6784 1888 5986  699 6573 5619  763 6006]\n",
            " [2783 6217 2054 4699 1132 6275 5971 5619 5480 4116]\n",
            " [5971 1332 2141 6675 6767 3689  890 4980 1867 1404]\n",
            " [7077 6664 5999 6483 3486 5971 4185 3768 3230 4232]\n",
            " [6647 5728  532 4104 4031 5022 3564 6354  406 7077]\n",
            " [2154  661  699  165 5480 5971 4207 6492 5536 5598]\n",
            " [ 486 3053 7077 1952 2014  234 6181 6271 4244 6217]\n",
            " [ 868 7122 1569 6521 6991 1808 4104 4940 4244 4282]\n",
            " [5619 4823  235 6646 5480 6742 6483 5274 7077 5392]\n",
            " [4676  325 4302  486  692 2942 6308 2060 5848 6276]\n",
            " [6883 6149 4602 3138 5923 5441 4185  235 5896 3564]\n",
            " [ 884 1066 6129 6813 6269  759 4185 3425 5053 4341]\n",
            " [5497 6818 6658 5600 6181 6675 4106 1682 6767 1241]\n",
            " [6344 2154  325 5536 1808 4104 5619 7077 4063 6483]\n",
            " [6824 5728 6918 1952 1706 6354 4063 6658 7077 3435]\n",
            " [ 509 6308 3229 2985 5986 1194 3703 6483 7077 4104]\n",
            " [1891 3691 4682  636 2507 6573 5401 2011 2355 2154]\n",
            " [6335 5433 4852 5208  759 3594 4823 1837 4820 5385]\n",
            " [2507 6181 2584  406 2360 6375 6483 7077 1195 6562]\n",
            " [1837 5335 6658 4314 5953 5986 3492 2545 4081 4104]\n",
            " [6782 3862 6304 2011 6573 5480 3463 2054 5986 7077]\n",
            " [ 636   53 2985 4185 7077 2054 3703  865 1194 4104]\n",
            " [6481 3463 5598 3703  104 2127 5962 4185 6332 4207]\n",
            " [ 431 4209 5480 3463 3138 1942 1883 2783 5098 6181]\n",
            " [ 517 5687 3486    0 2064 5728 5986  406 7077 4104]\n",
            " [2415 5986 6574 6354 5975 2507 4823 7127 1194 6181]\n",
            " [ 406 1332 5951 5047  873 3138 6918 6695 1399 6181]]\n"
          ]
        },
        {
          "output_type": "stream",
          "name": "stderr",
          "text": [
            "/usr/local/lib/python3.11/dist-packages/sklearn/metrics/_classification.py:1565: UndefinedMetricWarning: Precision is ill-defined and being set to 0.0 in labels with no predicted samples. Use `zero_division` parameter to control this behavior.\n",
            "  _warn_prf(average, modifier, f\"{metric.capitalize()} is\", len(result))\n",
            "/usr/local/lib/python3.11/dist-packages/sklearn/metrics/_classification.py:1565: UndefinedMetricWarning: Precision is ill-defined and being set to 0.0 in labels with no predicted samples. Use `zero_division` parameter to control this behavior.\n",
            "  _warn_prf(average, modifier, f\"{metric.capitalize()} is\", len(result))\n",
            "/usr/local/lib/python3.11/dist-packages/sklearn/metrics/_classification.py:1565: UndefinedMetricWarning: Precision is ill-defined and being set to 0.0 in labels with no predicted samples. Use `zero_division` parameter to control this behavior.\n",
            "  _warn_prf(average, modifier, f\"{metric.capitalize()} is\", len(result))\n"
          ]
        }
      ]
    },
    {
      "cell_type": "code",
      "source": [
        "from sklearn.preprocessing import MinMaxScaler\n",
        "\n",
        "scaler = MinMaxScaler()\n",
        "X_scaled = scaler.fit_transform(X)\n"
      ],
      "metadata": {
        "id": "WG2g0snovei7"
      },
      "execution_count": 80,
      "outputs": []
    },
    {
      "cell_type": "code",
      "source": [
        "rbm = BernoulliRBM(n_components=50, learning_rate=0.01, n_iter=100, random_state=42)\n"
      ],
      "metadata": {
        "id": "SvhXgzQ72aj6"
      },
      "execution_count": 81,
      "outputs": []
    },
    {
      "cell_type": "code",
      "source": [
        "from sklearn.ensemble import RandomForestClassifier\n",
        "classifier = RandomForestClassifier(n_estimators=100, random_state=42)\n"
      ],
      "metadata": {
        "id": "4dJMdc4P2c5N"
      },
      "execution_count": 82,
      "outputs": []
    },
    {
      "cell_type": "code",
      "source": [
        "print(\"Train label counts:\", pd.Series(y_train).value_counts())\n",
        "print(\"Test label counts:\", pd.Series(y_test).value_counts())\n"
      ],
      "metadata": {
        "colab": {
          "base_uri": "https://localhost:8080/"
        },
        "id": "PgtCqbTO2lPq",
        "outputId": "62223353-8b20-4b55-9d8b-d188cdd6aa23"
      },
      "execution_count": 83,
      "outputs": [
        {
          "output_type": "stream",
          "name": "stdout",
          "text": [
            "Train label counts: 0    23\n",
            "1     7\n",
            "Name: count, dtype: int64\n",
            "Test label counts: 1    4\n",
            "0    4\n",
            "Name: count, dtype: int64\n"
          ]
        }
      ]
    },
    {
      "cell_type": "code",
      "source": [
        "from sklearn.model_selection import train_test_split\n",
        "from sklearn.preprocessing import MinMaxScaler\n",
        "from sklearn.neural_network import BernoulliRBM\n",
        "from sklearn.ensemble import RandomForestClassifier\n",
        "from sklearn.metrics import classification_report, accuracy_score\n",
        "\n",
        "# Scale input data to [0, 1]\n",
        "scaler = MinMaxScaler()\n",
        "X_scaled = scaler.fit_transform(X)\n",
        "\n",
        "# Split data\n",
        "X_train, X_test, y_train, y_test = train_test_split(X_scaled, y, test_size=0.3, stratify=y, random_state=42)\n",
        "\n",
        "# Train RBM\n",
        "rbm = BernoulliRBM(n_components=50, learning_rate=0.01, n_iter=100, random_state=42)\n",
        "rbm.fit(X_train)\n",
        "\n",
        "# Transform data with RBM\n",
        "X_train_rbm = rbm.transform(X_train)\n",
        "X_test_rbm = rbm.transform(X_test)\n",
        "\n",
        "# Classifier\n",
        "classifier = RandomForestClassifier(n_estimators=100, random_state=42)\n",
        "classifier.fit(X_train_rbm, y_train)\n",
        "\n",
        "# Predict and evaluate\n",
        "y_pred = classifier.predict(X_test_rbm)\n",
        "print(\"Accuracy:\", accuracy_score(y_test, y_pred))\n",
        "print(classification_report(y_test, y_pred))\n"
      ],
      "metadata": {
        "colab": {
          "base_uri": "https://localhost:8080/"
        },
        "id": "gRw0W8nL2oho",
        "outputId": "ec1f0e42-2e84-4e2f-d974-a22e5024cae2"
      },
      "execution_count": 86,
      "outputs": [
        {
          "output_type": "stream",
          "name": "stdout",
          "text": [
            "Accuracy: 0.8333333333333334\n",
            "              precision    recall  f1-score   support\n",
            "\n",
            "         ALL       0.82      1.00      0.90         9\n",
            "         AML       1.00      0.33      0.50         3\n",
            "\n",
            "    accuracy                           0.83        12\n",
            "   macro avg       0.91      0.67      0.70        12\n",
            "weighted avg       0.86      0.83      0.80        12\n",
            "\n"
          ]
        }
      ]
    },
    {
      "cell_type": "code",
      "source": [
        "classifier = RandomForestClassifier(n_estimators=100, class_weight='balanced', random_state=42)\n"
      ],
      "metadata": {
        "id": "3eLdYfJ92uE_"
      },
      "execution_count": 87,
      "outputs": []
    },
    {
      "cell_type": "code",
      "source": [
        "from imblearn.over_sampling import SMOTE\n",
        "smote = SMOTE(random_state=42)\n",
        "X_train_balanced, y_train_balanced = smote.fit_resample(X_train_rbm, y_train)\n"
      ],
      "metadata": {
        "id": "4ky2d_ZH3T61"
      },
      "execution_count": 88,
      "outputs": []
    },
    {
      "cell_type": "code",
      "source": [
        "from sklearn.model_selection import GridSearchCV\n",
        "\n",
        "param_grid = {\n",
        "    'n_estimators': [50, 100, 150],\n",
        "    'max_depth': [None, 5, 10],\n",
        "    'class_weight': ['balanced']\n",
        "}\n",
        "\n",
        "grid = GridSearchCV(RandomForestClassifier(random_state=42), param_grid, cv=3)\n",
        "grid.fit(X_train_rbm, y_train)\n",
        "print(\"Best params:\", grid.best_params_)\n"
      ],
      "metadata": {
        "colab": {
          "base_uri": "https://localhost:8080/"
        },
        "id": "4eCmzr8S3XxE",
        "outputId": "85cd61ac-c68a-4ba9-9499-06b4ddbde466"
      },
      "execution_count": 89,
      "outputs": [
        {
          "output_type": "stream",
          "name": "stdout",
          "text": [
            "Best params: {'class_weight': 'balanced', 'max_depth': None, 'n_estimators': 100}\n"
          ]
        }
      ]
    },
    {
      "cell_type": "code",
      "source": [
        "from sklearn.svm import SVC\n",
        "svm = SVC(kernel='rbf', class_weight='balanced', probability=True)\n",
        "svm.fit(X_train_rbm, y_train)\n"
      ],
      "metadata": {
        "colab": {
          "base_uri": "https://localhost:8080/",
          "height": 80
        },
        "id": "hJ4z1wFT3buD",
        "outputId": "5f7aadad-3db0-4a55-c553-deb577a62b0e"
      },
      "execution_count": 90,
      "outputs": [
        {
          "output_type": "execute_result",
          "data": {
            "text/plain": [
              "SVC(class_weight='balanced', probability=True)"
            ],
            "text/html": [
              "<style>#sk-container-id-2 {\n",
              "  /* Definition of color scheme common for light and dark mode */\n",
              "  --sklearn-color-text: #000;\n",
              "  --sklearn-color-text-muted: #666;\n",
              "  --sklearn-color-line: gray;\n",
              "  /* Definition of color scheme for unfitted estimators */\n",
              "  --sklearn-color-unfitted-level-0: #fff5e6;\n",
              "  --sklearn-color-unfitted-level-1: #f6e4d2;\n",
              "  --sklearn-color-unfitted-level-2: #ffe0b3;\n",
              "  --sklearn-color-unfitted-level-3: chocolate;\n",
              "  /* Definition of color scheme for fitted estimators */\n",
              "  --sklearn-color-fitted-level-0: #f0f8ff;\n",
              "  --sklearn-color-fitted-level-1: #d4ebff;\n",
              "  --sklearn-color-fitted-level-2: #b3dbfd;\n",
              "  --sklearn-color-fitted-level-3: cornflowerblue;\n",
              "\n",
              "  /* Specific color for light theme */\n",
              "  --sklearn-color-text-on-default-background: var(--sg-text-color, var(--theme-code-foreground, var(--jp-content-font-color1, black)));\n",
              "  --sklearn-color-background: var(--sg-background-color, var(--theme-background, var(--jp-layout-color0, white)));\n",
              "  --sklearn-color-border-box: var(--sg-text-color, var(--theme-code-foreground, var(--jp-content-font-color1, black)));\n",
              "  --sklearn-color-icon: #696969;\n",
              "\n",
              "  @media (prefers-color-scheme: dark) {\n",
              "    /* Redefinition of color scheme for dark theme */\n",
              "    --sklearn-color-text-on-default-background: var(--sg-text-color, var(--theme-code-foreground, var(--jp-content-font-color1, white)));\n",
              "    --sklearn-color-background: var(--sg-background-color, var(--theme-background, var(--jp-layout-color0, #111)));\n",
              "    --sklearn-color-border-box: var(--sg-text-color, var(--theme-code-foreground, var(--jp-content-font-color1, white)));\n",
              "    --sklearn-color-icon: #878787;\n",
              "  }\n",
              "}\n",
              "\n",
              "#sk-container-id-2 {\n",
              "  color: var(--sklearn-color-text);\n",
              "}\n",
              "\n",
              "#sk-container-id-2 pre {\n",
              "  padding: 0;\n",
              "}\n",
              "\n",
              "#sk-container-id-2 input.sk-hidden--visually {\n",
              "  border: 0;\n",
              "  clip: rect(1px 1px 1px 1px);\n",
              "  clip: rect(1px, 1px, 1px, 1px);\n",
              "  height: 1px;\n",
              "  margin: -1px;\n",
              "  overflow: hidden;\n",
              "  padding: 0;\n",
              "  position: absolute;\n",
              "  width: 1px;\n",
              "}\n",
              "\n",
              "#sk-container-id-2 div.sk-dashed-wrapped {\n",
              "  border: 1px dashed var(--sklearn-color-line);\n",
              "  margin: 0 0.4em 0.5em 0.4em;\n",
              "  box-sizing: border-box;\n",
              "  padding-bottom: 0.4em;\n",
              "  background-color: var(--sklearn-color-background);\n",
              "}\n",
              "\n",
              "#sk-container-id-2 div.sk-container {\n",
              "  /* jupyter's `normalize.less` sets `[hidden] { display: none; }`\n",
              "     but bootstrap.min.css set `[hidden] { display: none !important; }`\n",
              "     so we also need the `!important` here to be able to override the\n",
              "     default hidden behavior on the sphinx rendered scikit-learn.org.\n",
              "     See: https://github.com/scikit-learn/scikit-learn/issues/21755 */\n",
              "  display: inline-block !important;\n",
              "  position: relative;\n",
              "}\n",
              "\n",
              "#sk-container-id-2 div.sk-text-repr-fallback {\n",
              "  display: none;\n",
              "}\n",
              "\n",
              "div.sk-parallel-item,\n",
              "div.sk-serial,\n",
              "div.sk-item {\n",
              "  /* draw centered vertical line to link estimators */\n",
              "  background-image: linear-gradient(var(--sklearn-color-text-on-default-background), var(--sklearn-color-text-on-default-background));\n",
              "  background-size: 2px 100%;\n",
              "  background-repeat: no-repeat;\n",
              "  background-position: center center;\n",
              "}\n",
              "\n",
              "/* Parallel-specific style estimator block */\n",
              "\n",
              "#sk-container-id-2 div.sk-parallel-item::after {\n",
              "  content: \"\";\n",
              "  width: 100%;\n",
              "  border-bottom: 2px solid var(--sklearn-color-text-on-default-background);\n",
              "  flex-grow: 1;\n",
              "}\n",
              "\n",
              "#sk-container-id-2 div.sk-parallel {\n",
              "  display: flex;\n",
              "  align-items: stretch;\n",
              "  justify-content: center;\n",
              "  background-color: var(--sklearn-color-background);\n",
              "  position: relative;\n",
              "}\n",
              "\n",
              "#sk-container-id-2 div.sk-parallel-item {\n",
              "  display: flex;\n",
              "  flex-direction: column;\n",
              "}\n",
              "\n",
              "#sk-container-id-2 div.sk-parallel-item:first-child::after {\n",
              "  align-self: flex-end;\n",
              "  width: 50%;\n",
              "}\n",
              "\n",
              "#sk-container-id-2 div.sk-parallel-item:last-child::after {\n",
              "  align-self: flex-start;\n",
              "  width: 50%;\n",
              "}\n",
              "\n",
              "#sk-container-id-2 div.sk-parallel-item:only-child::after {\n",
              "  width: 0;\n",
              "}\n",
              "\n",
              "/* Serial-specific style estimator block */\n",
              "\n",
              "#sk-container-id-2 div.sk-serial {\n",
              "  display: flex;\n",
              "  flex-direction: column;\n",
              "  align-items: center;\n",
              "  background-color: var(--sklearn-color-background);\n",
              "  padding-right: 1em;\n",
              "  padding-left: 1em;\n",
              "}\n",
              "\n",
              "\n",
              "/* Toggleable style: style used for estimator/Pipeline/ColumnTransformer box that is\n",
              "clickable and can be expanded/collapsed.\n",
              "- Pipeline and ColumnTransformer use this feature and define the default style\n",
              "- Estimators will overwrite some part of the style using the `sk-estimator` class\n",
              "*/\n",
              "\n",
              "/* Pipeline and ColumnTransformer style (default) */\n",
              "\n",
              "#sk-container-id-2 div.sk-toggleable {\n",
              "  /* Default theme specific background. It is overwritten whether we have a\n",
              "  specific estimator or a Pipeline/ColumnTransformer */\n",
              "  background-color: var(--sklearn-color-background);\n",
              "}\n",
              "\n",
              "/* Toggleable label */\n",
              "#sk-container-id-2 label.sk-toggleable__label {\n",
              "  cursor: pointer;\n",
              "  display: flex;\n",
              "  width: 100%;\n",
              "  margin-bottom: 0;\n",
              "  padding: 0.5em;\n",
              "  box-sizing: border-box;\n",
              "  text-align: center;\n",
              "  align-items: start;\n",
              "  justify-content: space-between;\n",
              "  gap: 0.5em;\n",
              "}\n",
              "\n",
              "#sk-container-id-2 label.sk-toggleable__label .caption {\n",
              "  font-size: 0.6rem;\n",
              "  font-weight: lighter;\n",
              "  color: var(--sklearn-color-text-muted);\n",
              "}\n",
              "\n",
              "#sk-container-id-2 label.sk-toggleable__label-arrow:before {\n",
              "  /* Arrow on the left of the label */\n",
              "  content: \"▸\";\n",
              "  float: left;\n",
              "  margin-right: 0.25em;\n",
              "  color: var(--sklearn-color-icon);\n",
              "}\n",
              "\n",
              "#sk-container-id-2 label.sk-toggleable__label-arrow:hover:before {\n",
              "  color: var(--sklearn-color-text);\n",
              "}\n",
              "\n",
              "/* Toggleable content - dropdown */\n",
              "\n",
              "#sk-container-id-2 div.sk-toggleable__content {\n",
              "  max-height: 0;\n",
              "  max-width: 0;\n",
              "  overflow: hidden;\n",
              "  text-align: left;\n",
              "  /* unfitted */\n",
              "  background-color: var(--sklearn-color-unfitted-level-0);\n",
              "}\n",
              "\n",
              "#sk-container-id-2 div.sk-toggleable__content.fitted {\n",
              "  /* fitted */\n",
              "  background-color: var(--sklearn-color-fitted-level-0);\n",
              "}\n",
              "\n",
              "#sk-container-id-2 div.sk-toggleable__content pre {\n",
              "  margin: 0.2em;\n",
              "  border-radius: 0.25em;\n",
              "  color: var(--sklearn-color-text);\n",
              "  /* unfitted */\n",
              "  background-color: var(--sklearn-color-unfitted-level-0);\n",
              "}\n",
              "\n",
              "#sk-container-id-2 div.sk-toggleable__content.fitted pre {\n",
              "  /* unfitted */\n",
              "  background-color: var(--sklearn-color-fitted-level-0);\n",
              "}\n",
              "\n",
              "#sk-container-id-2 input.sk-toggleable__control:checked~div.sk-toggleable__content {\n",
              "  /* Expand drop-down */\n",
              "  max-height: 200px;\n",
              "  max-width: 100%;\n",
              "  overflow: auto;\n",
              "}\n",
              "\n",
              "#sk-container-id-2 input.sk-toggleable__control:checked~label.sk-toggleable__label-arrow:before {\n",
              "  content: \"▾\";\n",
              "}\n",
              "\n",
              "/* Pipeline/ColumnTransformer-specific style */\n",
              "\n",
              "#sk-container-id-2 div.sk-label input.sk-toggleable__control:checked~label.sk-toggleable__label {\n",
              "  color: var(--sklearn-color-text);\n",
              "  background-color: var(--sklearn-color-unfitted-level-2);\n",
              "}\n",
              "\n",
              "#sk-container-id-2 div.sk-label.fitted input.sk-toggleable__control:checked~label.sk-toggleable__label {\n",
              "  background-color: var(--sklearn-color-fitted-level-2);\n",
              "}\n",
              "\n",
              "/* Estimator-specific style */\n",
              "\n",
              "/* Colorize estimator box */\n",
              "#sk-container-id-2 div.sk-estimator input.sk-toggleable__control:checked~label.sk-toggleable__label {\n",
              "  /* unfitted */\n",
              "  background-color: var(--sklearn-color-unfitted-level-2);\n",
              "}\n",
              "\n",
              "#sk-container-id-2 div.sk-estimator.fitted input.sk-toggleable__control:checked~label.sk-toggleable__label {\n",
              "  /* fitted */\n",
              "  background-color: var(--sklearn-color-fitted-level-2);\n",
              "}\n",
              "\n",
              "#sk-container-id-2 div.sk-label label.sk-toggleable__label,\n",
              "#sk-container-id-2 div.sk-label label {\n",
              "  /* The background is the default theme color */\n",
              "  color: var(--sklearn-color-text-on-default-background);\n",
              "}\n",
              "\n",
              "/* On hover, darken the color of the background */\n",
              "#sk-container-id-2 div.sk-label:hover label.sk-toggleable__label {\n",
              "  color: var(--sklearn-color-text);\n",
              "  background-color: var(--sklearn-color-unfitted-level-2);\n",
              "}\n",
              "\n",
              "/* Label box, darken color on hover, fitted */\n",
              "#sk-container-id-2 div.sk-label.fitted:hover label.sk-toggleable__label.fitted {\n",
              "  color: var(--sklearn-color-text);\n",
              "  background-color: var(--sklearn-color-fitted-level-2);\n",
              "}\n",
              "\n",
              "/* Estimator label */\n",
              "\n",
              "#sk-container-id-2 div.sk-label label {\n",
              "  font-family: monospace;\n",
              "  font-weight: bold;\n",
              "  display: inline-block;\n",
              "  line-height: 1.2em;\n",
              "}\n",
              "\n",
              "#sk-container-id-2 div.sk-label-container {\n",
              "  text-align: center;\n",
              "}\n",
              "\n",
              "/* Estimator-specific */\n",
              "#sk-container-id-2 div.sk-estimator {\n",
              "  font-family: monospace;\n",
              "  border: 1px dotted var(--sklearn-color-border-box);\n",
              "  border-radius: 0.25em;\n",
              "  box-sizing: border-box;\n",
              "  margin-bottom: 0.5em;\n",
              "  /* unfitted */\n",
              "  background-color: var(--sklearn-color-unfitted-level-0);\n",
              "}\n",
              "\n",
              "#sk-container-id-2 div.sk-estimator.fitted {\n",
              "  /* fitted */\n",
              "  background-color: var(--sklearn-color-fitted-level-0);\n",
              "}\n",
              "\n",
              "/* on hover */\n",
              "#sk-container-id-2 div.sk-estimator:hover {\n",
              "  /* unfitted */\n",
              "  background-color: var(--sklearn-color-unfitted-level-2);\n",
              "}\n",
              "\n",
              "#sk-container-id-2 div.sk-estimator.fitted:hover {\n",
              "  /* fitted */\n",
              "  background-color: var(--sklearn-color-fitted-level-2);\n",
              "}\n",
              "\n",
              "/* Specification for estimator info (e.g. \"i\" and \"?\") */\n",
              "\n",
              "/* Common style for \"i\" and \"?\" */\n",
              "\n",
              ".sk-estimator-doc-link,\n",
              "a:link.sk-estimator-doc-link,\n",
              "a:visited.sk-estimator-doc-link {\n",
              "  float: right;\n",
              "  font-size: smaller;\n",
              "  line-height: 1em;\n",
              "  font-family: monospace;\n",
              "  background-color: var(--sklearn-color-background);\n",
              "  border-radius: 1em;\n",
              "  height: 1em;\n",
              "  width: 1em;\n",
              "  text-decoration: none !important;\n",
              "  margin-left: 0.5em;\n",
              "  text-align: center;\n",
              "  /* unfitted */\n",
              "  border: var(--sklearn-color-unfitted-level-1) 1pt solid;\n",
              "  color: var(--sklearn-color-unfitted-level-1);\n",
              "}\n",
              "\n",
              ".sk-estimator-doc-link.fitted,\n",
              "a:link.sk-estimator-doc-link.fitted,\n",
              "a:visited.sk-estimator-doc-link.fitted {\n",
              "  /* fitted */\n",
              "  border: var(--sklearn-color-fitted-level-1) 1pt solid;\n",
              "  color: var(--sklearn-color-fitted-level-1);\n",
              "}\n",
              "\n",
              "/* On hover */\n",
              "div.sk-estimator:hover .sk-estimator-doc-link:hover,\n",
              ".sk-estimator-doc-link:hover,\n",
              "div.sk-label-container:hover .sk-estimator-doc-link:hover,\n",
              ".sk-estimator-doc-link:hover {\n",
              "  /* unfitted */\n",
              "  background-color: var(--sklearn-color-unfitted-level-3);\n",
              "  color: var(--sklearn-color-background);\n",
              "  text-decoration: none;\n",
              "}\n",
              "\n",
              "div.sk-estimator.fitted:hover .sk-estimator-doc-link.fitted:hover,\n",
              ".sk-estimator-doc-link.fitted:hover,\n",
              "div.sk-label-container:hover .sk-estimator-doc-link.fitted:hover,\n",
              ".sk-estimator-doc-link.fitted:hover {\n",
              "  /* fitted */\n",
              "  background-color: var(--sklearn-color-fitted-level-3);\n",
              "  color: var(--sklearn-color-background);\n",
              "  text-decoration: none;\n",
              "}\n",
              "\n",
              "/* Span, style for the box shown on hovering the info icon */\n",
              ".sk-estimator-doc-link span {\n",
              "  display: none;\n",
              "  z-index: 9999;\n",
              "  position: relative;\n",
              "  font-weight: normal;\n",
              "  right: .2ex;\n",
              "  padding: .5ex;\n",
              "  margin: .5ex;\n",
              "  width: min-content;\n",
              "  min-width: 20ex;\n",
              "  max-width: 50ex;\n",
              "  color: var(--sklearn-color-text);\n",
              "  box-shadow: 2pt 2pt 4pt #999;\n",
              "  /* unfitted */\n",
              "  background: var(--sklearn-color-unfitted-level-0);\n",
              "  border: .5pt solid var(--sklearn-color-unfitted-level-3);\n",
              "}\n",
              "\n",
              ".sk-estimator-doc-link.fitted span {\n",
              "  /* fitted */\n",
              "  background: var(--sklearn-color-fitted-level-0);\n",
              "  border: var(--sklearn-color-fitted-level-3);\n",
              "}\n",
              "\n",
              ".sk-estimator-doc-link:hover span {\n",
              "  display: block;\n",
              "}\n",
              "\n",
              "/* \"?\"-specific style due to the `<a>` HTML tag */\n",
              "\n",
              "#sk-container-id-2 a.estimator_doc_link {\n",
              "  float: right;\n",
              "  font-size: 1rem;\n",
              "  line-height: 1em;\n",
              "  font-family: monospace;\n",
              "  background-color: var(--sklearn-color-background);\n",
              "  border-radius: 1rem;\n",
              "  height: 1rem;\n",
              "  width: 1rem;\n",
              "  text-decoration: none;\n",
              "  /* unfitted */\n",
              "  color: var(--sklearn-color-unfitted-level-1);\n",
              "  border: var(--sklearn-color-unfitted-level-1) 1pt solid;\n",
              "}\n",
              "\n",
              "#sk-container-id-2 a.estimator_doc_link.fitted {\n",
              "  /* fitted */\n",
              "  border: var(--sklearn-color-fitted-level-1) 1pt solid;\n",
              "  color: var(--sklearn-color-fitted-level-1);\n",
              "}\n",
              "\n",
              "/* On hover */\n",
              "#sk-container-id-2 a.estimator_doc_link:hover {\n",
              "  /* unfitted */\n",
              "  background-color: var(--sklearn-color-unfitted-level-3);\n",
              "  color: var(--sklearn-color-background);\n",
              "  text-decoration: none;\n",
              "}\n",
              "\n",
              "#sk-container-id-2 a.estimator_doc_link.fitted:hover {\n",
              "  /* fitted */\n",
              "  background-color: var(--sklearn-color-fitted-level-3);\n",
              "}\n",
              "</style><div id=\"sk-container-id-2\" class=\"sk-top-container\"><div class=\"sk-text-repr-fallback\"><pre>SVC(class_weight=&#x27;balanced&#x27;, probability=True)</pre><b>In a Jupyter environment, please rerun this cell to show the HTML representation or trust the notebook. <br />On GitHub, the HTML representation is unable to render, please try loading this page with nbviewer.org.</b></div><div class=\"sk-container\" hidden><div class=\"sk-item\"><div class=\"sk-estimator fitted sk-toggleable\"><input class=\"sk-toggleable__control sk-hidden--visually\" id=\"sk-estimator-id-4\" type=\"checkbox\" checked><label for=\"sk-estimator-id-4\" class=\"sk-toggleable__label fitted sk-toggleable__label-arrow\"><div><div>SVC</div></div><div><a class=\"sk-estimator-doc-link fitted\" rel=\"noreferrer\" target=\"_blank\" href=\"https://scikit-learn.org/1.6/modules/generated/sklearn.svm.SVC.html\">?<span>Documentation for SVC</span></a><span class=\"sk-estimator-doc-link fitted\">i<span>Fitted</span></span></div></label><div class=\"sk-toggleable__content fitted\"><pre>SVC(class_weight=&#x27;balanced&#x27;, probability=True)</pre></div> </div></div></div></div>"
            ]
          },
          "metadata": {},
          "execution_count": 90
        }
      ]
    },
    {
      "cell_type": "code",
      "source": [
        "from sklearn.model_selection import cross_val_score\n",
        "scores = cross_val_score(classifier, X_train_rbm, y_train, cv=5)\n",
        "print(\"Cross-val accuracy:\", scores.mean())\n"
      ],
      "metadata": {
        "colab": {
          "base_uri": "https://localhost:8080/"
        },
        "id": "c1hHb6Vp3wST",
        "outputId": "6e64fad8-a9ee-4bd0-a4da-a9f1b895afe6"
      },
      "execution_count": 91,
      "outputs": [
        {
          "output_type": "stream",
          "name": "stdout",
          "text": [
            "Cross-val accuracy: 0.7\n"
          ]
        }
      ]
    },
    {
      "cell_type": "code",
      "source": [],
      "metadata": {
        "id": "p7py4JH44Nvr"
      },
      "execution_count": null,
      "outputs": []
    }
  ]
}